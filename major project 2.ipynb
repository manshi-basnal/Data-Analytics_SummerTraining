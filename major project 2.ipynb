{
 "cells": [
  {
   "cell_type": "markdown",
   "id": "319ee2d2-15bd-435e-ae34-15fe418233c7",
   "metadata": {},
   "source": [
    "# ================ MAJOR PROJECT ==================="
   ]
  },
  {
   "cell_type": "markdown",
   "id": "db3487bc-c6d0-440d-b55f-5da070335b1a",
   "metadata": {},
   "source": [
    "# ********** Library Management System ************"
   ]
  },
  {
   "cell_type": "code",
   "execution_count": 20,
   "id": "affc23ab-a6f0-46fc-91f3-b2b6371b4777",
   "metadata": {},
   "outputs": [],
   "source": [
    "import sqlite3\n",
    "from datetime import datetime\n",
    "conn = sqlite3.connect(\"library_Management_System.db\")\n",
    "cur = conn.cursor()"
   ]
  },
  {
   "cell_type": "code",
   "execution_count": 21,
   "id": "acfb1d05-1d83-4852-904b-388e60b4b91e",
   "metadata": {},
   "outputs": [],
   "source": [
    "cur.execute(''' CREATE TABLE IF NOT EXISTS books( book_id INTEGER PRIMARY KEY AUTOINCREMENT, title TEXT, author  TEXT, quantity INTEGER)''')\n",
    "cur.execute(''' CREATE TABLE IF NOT EXISTS students( student_id INTEGER PRIMARY KEY AUTOINCREMENT, name TEXT, course  TEXT)''')\n",
    "cur.execute(''' CREATE TABLE IF NOT EXISTS issueBooks( issue_id INTEGER PRIMARY KEY AUTOINCREMENT, book_id INTEGER, student_id  INTEGER, issue_date TEXT, return_date TEXT)''')\n",
    "conn.commit()"
   ]
  },
  {
   "cell_type": "code",
   "execution_count": 22,
   "id": "58432f86-0f44-4503-93e5-50c684710d60",
   "metadata": {},
   "outputs": [],
   "source": [
    "def add_books():\n",
    "    title = input(\"Enter book title: \")\n",
    "    author = input(\"Enter book author: \")\n",
    "    quantity = int(input(\"Enter book quantity: \"))\n",
    "    cur.execute(\"INSERT INTO books (title, author, quantity) VALUES (?, ?, ?)\", (title, author, quantity))\n",
    "    conn.commit()\n",
    "    print(\"Book added successfully\")"
   ]
  },
  {
   "cell_type": "code",
   "execution_count": 23,
   "id": "36c5d62c-3f0a-4ef1-b875-49ff5c336a1f",
   "metadata": {},
   "outputs": [],
   "source": [
    "def view_books():\n",
    "    cur.execute(\"SELECT * FROM books\")\n",
    "    rows = cur.fetchall()\n",
    "    for row in rows:\n",
    "        print(f\"ID:{row[0]} | Title:{row[1]} | Author:{row[2]} | Qty:{row[3]}\")"
   ]
  },
  {
   "cell_type": "code",
   "execution_count": 24,
   "id": "c212e0ae-2c6f-477c-bcb7-c8a27619b78f",
   "metadata": {},
   "outputs": [],
   "source": [
    "def add_student():\n",
    "    name = input(\"Enter student name: \")\n",
    "    course = input(\"Enter student course: \")\n",
    "    cur.execute(\"INSERT INTO students (name, course) VALUES (?, ?)\", (name, course))\n",
    "    conn.commit()\n",
    "    print(\"Student added successfully\")"
   ]
  },
  {
   "cell_type": "code",
   "execution_count": 25,
   "id": "3d89594c-9c74-43db-980a-b69e4ffb852c",
   "metadata": {},
   "outputs": [],
   "source": [
    "def issue_books():\n",
    "    student_id = input(\"Enter student id: \")\n",
    "    book_id = input(\"Enter book id: \")\n",
    "    cur.execute(\"SELECT quantity FROM books WHERE book_id=?\", (book_id))\n",
    "    book = cur.fetchone()\n",
    "    if book and book[0] > 0:\n",
    "        issue_date = datetime.now().strftime(\"%Y-%m-%d\")\n",
    "        cur.execute(\"INSERT INTO issueBooks (book_id, student_id, issue_date, return_date) VALUES (?, ?, ?, NULL)\", (book_id, student_id, issue_date))\n",
    "        cur.execute(\"UPDATE books SET quantity = quantity - 1 WHERE book_id=?\", (book_id,))\n",
    "        conn.commit()\n",
    "        print(\"Book issued successfully!\\n\")\n",
    "    else:\n",
    "        print(\"Book not available!\\n\")"
   ]
  },
  {
   "cell_type": "code",
   "execution_count": 26,
   "id": "1737f3c7-853d-4d86-a194-7d764e8455c6",
   "metadata": {},
   "outputs": [],
   "source": [
    "def return_books():\n",
    "    student_id = int(input(\"Enter student id: \"))\n",
    "    book_id = int(input(\"Enter book id: \"))\n",
    "    return_date = datetime.now().strftime(\"%Y-%m-%d\")\n",
    "    cur.execute(\"SELECT issue_id FROM issueBooks WHERE student_id=? AND book_id=? AND return_date IS NULL\", (student_id, book_id))\n",
    "    record = cur.fetchone()\n",
    "    if record:\n",
    "        cur.execute(\"UPDATE issueBooks SET return_date=? WHERE issue_id=?\", (return_date, record[0]))\n",
    "        cur.execute(\"UPDATE books SET quantity = quantity + 1 WHERE book_id=?\", (book_id,))\n",
    "        conn.commit()\n",
    "        print(\"Book returned successfully!\\n\")\n",
    "    else:\n",
    "        print(\"No such issued book found!\\n\")"
   ]
  },
  {
   "cell_type": "code",
   "execution_count": 27,
   "id": "cbbd0795-ad2a-4278-8ba0-a7a7dccf65ed",
   "metadata": {},
   "outputs": [],
   "source": [
    "def view_issued_books():\n",
    "    cur.execute(\"SELECT issue_id, book_id, student_id, issue_date FROM issueBooks WHERE return_date IS NULL\")\n",
    "    rows = cur.fetchall()\n",
    "    print(\"\\n--- Currently Issued Books ---\")\n",
    "    for row in rows:\n",
    "        print(f\"IssueID:{row[0]} | BookID:{row[1]} | StudentID:{row[2]} | IssueDate:{row[3]}\")\n",
    "    print()"
   ]
  },
  {
   "cell_type": "code",
   "execution_count": 28,
   "id": "e6c7acee-1381-4c60-9eb5-b878acc0018e",
   "metadata": {},
   "outputs": [],
   "source": [
    "def library_system():\n",
    "    while True:\n",
    "        print(\"===== Library Management System =====\")\n",
    "        print(\"1. Add Books\")\n",
    "        print(\"2. View All Books\")\n",
    "        print(\"3. Add Student\")\n",
    "        print(\"4. Issue Books\")\n",
    "        print(\"5. Return Books\")\n",
    "        print(\"6. View Issued Books\")\n",
    "        print(\"7. Exit\")\n",
    "        choice = input(\"Enter choice: \")\n",
    "\n",
    "        if choice == '1':\n",
    "            add_books()\n",
    "        elif choice == '2':\n",
    "            view_books()\n",
    "        elif choice == '3':\n",
    "            add_student()\n",
    "        elif choice == '4':\n",
    "            issue_books()\n",
    "        elif choice == '5':\n",
    "            return_books()\n",
    "        elif choice == '6':\n",
    "            view_issued_books()\n",
    "        elif choice == '7':\n",
    "            print(\"Exiting... \")\n",
    "            break\n",
    "        else:\n",
    "            print(\"Invalid choice! Try again.\\n\")"
   ]
  },
  {
   "cell_type": "code",
   "execution_count": 29,
   "id": "1130121e-e354-4073-8365-6148cc923ec4",
   "metadata": {},
   "outputs": [
    {
     "name": "stdout",
     "output_type": "stream",
     "text": [
      "===== Library Management System =====\n",
      "1. Add Books\n",
      "2. View All Books\n",
      "3. Add Student\n",
      "4. Issue Books\n",
      "5. Return Books\n",
      "6. View Issued Books\n",
      "7. Exit\n"
     ]
    },
    {
     "name": "stdin",
     "output_type": "stream",
     "text": [
      "Enter choice:  1\n",
      "Enter book title:  Let us c\n",
      "Enter book author:  Y, kanetkar\n",
      "Enter book quantity:  10\n"
     ]
    },
    {
     "name": "stdout",
     "output_type": "stream",
     "text": [
      "Book added successfully\n",
      "===== Library Management System =====\n",
      "1. Add Books\n",
      "2. View All Books\n",
      "3. Add Student\n",
      "4. Issue Books\n",
      "5. Return Books\n",
      "6. View Issued Books\n",
      "7. Exit\n"
     ]
    },
    {
     "name": "stdin",
     "output_type": "stream",
     "text": [
      "Enter choice:  1\n",
      "Enter book title:  DBMS\n",
      "Enter book author:  Navethe\n",
      "Enter book quantity:  15\n"
     ]
    },
    {
     "name": "stdout",
     "output_type": "stream",
     "text": [
      "Book added successfully\n",
      "===== Library Management System =====\n",
      "1. Add Books\n",
      "2. View All Books\n",
      "3. Add Student\n",
      "4. Issue Books\n",
      "5. Return Books\n",
      "6. View Issued Books\n",
      "7. Exit\n"
     ]
    },
    {
     "name": "stdin",
     "output_type": "stream",
     "text": [
      "Enter choice:  2\n"
     ]
    },
    {
     "name": "stdout",
     "output_type": "stream",
     "text": [
      "ID:1 | Title:Let us c | Author:Y, kanetkar | Qty:10\n",
      "ID:2 | Title:DBMS | Author:Navethe | Qty:15\n",
      "===== Library Management System =====\n",
      "1. Add Books\n",
      "2. View All Books\n",
      "3. Add Student\n",
      "4. Issue Books\n",
      "5. Return Books\n",
      "6. View Issued Books\n",
      "7. Exit\n"
     ]
    },
    {
     "name": "stdin",
     "output_type": "stream",
     "text": [
      "Enter choice:  3\n",
      "Enter student name:  Manshi\n",
      "Enter student course:  Bca\n"
     ]
    },
    {
     "name": "stdout",
     "output_type": "stream",
     "text": [
      "Student added successfully\n",
      "===== Library Management System =====\n",
      "1. Add Books\n",
      "2. View All Books\n",
      "3. Add Student\n",
      "4. Issue Books\n",
      "5. Return Books\n",
      "6. View Issued Books\n",
      "7. Exit\n"
     ]
    },
    {
     "name": "stdin",
     "output_type": "stream",
     "text": [
      "Enter choice:  4\n",
      "Enter student id:  1\n",
      "Enter book id:  1\n"
     ]
    },
    {
     "name": "stdout",
     "output_type": "stream",
     "text": [
      "Book issued successfully!\n",
      "\n",
      "===== Library Management System =====\n",
      "1. Add Books\n",
      "2. View All Books\n",
      "3. Add Student\n",
      "4. Issue Books\n",
      "5. Return Books\n",
      "6. View Issued Books\n",
      "7. Exit\n"
     ]
    },
    {
     "name": "stdin",
     "output_type": "stream",
     "text": [
      "Enter choice:  4\n",
      "Enter student id:  2\n",
      "Enter book id:  2\n"
     ]
    },
    {
     "name": "stdout",
     "output_type": "stream",
     "text": [
      "Book issued successfully!\n",
      "\n",
      "===== Library Management System =====\n",
      "1. Add Books\n",
      "2. View All Books\n",
      "3. Add Student\n",
      "4. Issue Books\n",
      "5. Return Books\n",
      "6. View Issued Books\n",
      "7. Exit\n"
     ]
    },
    {
     "name": "stdin",
     "output_type": "stream",
     "text": [
      "Enter choice:  5\n",
      "Enter student id:  1\n",
      "Enter book id:  1\n"
     ]
    },
    {
     "name": "stdout",
     "output_type": "stream",
     "text": [
      "Book returned successfully!\n",
      "\n",
      "===== Library Management System =====\n",
      "1. Add Books\n",
      "2. View All Books\n",
      "3. Add Student\n",
      "4. Issue Books\n",
      "5. Return Books\n",
      "6. View Issued Books\n",
      "7. Exit\n"
     ]
    },
    {
     "name": "stdin",
     "output_type": "stream",
     "text": [
      "Enter choice:  6\n"
     ]
    },
    {
     "name": "stdout",
     "output_type": "stream",
     "text": [
      "\n",
      "--- Currently Issued Books ---\n",
      "IssueID:2 | BookID:2 | StudentID:2 | IssueDate:2025-07-22\n",
      "\n",
      "===== Library Management System =====\n",
      "1. Add Books\n",
      "2. View All Books\n",
      "3. Add Student\n",
      "4. Issue Books\n",
      "5. Return Books\n",
      "6. View Issued Books\n",
      "7. Exit\n"
     ]
    },
    {
     "name": "stdin",
     "output_type": "stream",
     "text": [
      "Enter choice:  7\n"
     ]
    },
    {
     "name": "stdout",
     "output_type": "stream",
     "text": [
      "Exiting... \n"
     ]
    }
   ],
   "source": [
    "library_system()\n",
    "conn.close()"
   ]
  },
  {
   "cell_type": "code",
   "execution_count": null,
   "id": "541abc04-893f-4916-b9a1-b9313ef9c56a",
   "metadata": {},
   "outputs": [],
   "source": []
  }
 ],
 "metadata": {
  "kernelspec": {
   "display_name": "Python 3 (ipykernel)",
   "language": "python",
   "name": "python3"
  },
  "language_info": {
   "codemirror_mode": {
    "name": "ipython",
    "version": 3
   },
   "file_extension": ".py",
   "mimetype": "text/x-python",
   "name": "python",
   "nbconvert_exporter": "python",
   "pygments_lexer": "ipython3",
   "version": "3.13.5"
  }
 },
 "nbformat": 4,
 "nbformat_minor": 5
}
