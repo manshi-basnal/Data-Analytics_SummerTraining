{
 "cells": [
  {
   "cell_type": "code",
   "execution_count": 2,
   "id": "5514ee80-7562-4f31-9631-82b422b5591a",
   "metadata": {},
   "outputs": [],
   "source": [
    "# **************** MINOR PROJRCT *************************"
   ]
  },
  {
   "cell_type": "code",
   "execution_count": null,
   "id": "6ea42a7b-bbba-4459-90eb-cbc5d88b84b7",
   "metadata": {},
   "outputs": [],
   "source": [
    "# ****** Python *******"
   ]
  },
  {
   "cell_type": "code",
   "execution_count": null,
   "id": "5f3259b8-a09d-4b8e-8e9f-8e00eba15584",
   "metadata": {},
   "outputs": [],
   "source": [
    "# ***** Password Authentication System ******"
   ]
  },
  {
   "cell_type": "code",
   "execution_count": null,
   "id": "cd13495c-f244-4dd6-95b4-8431b38687cb",
   "metadata": {},
   "outputs": [],
   "source": [
    "from getpass import getpass\n",
    "import time\n",
    "# Original password\n",
    "password = \"abc@123\"\n",
    "# Security question and answer\n",
    "security_question = \"What is your favorite color? \"\n",
    "security_answer = \"blue\"\n",
    "# Total attempte\n",
    "attempt = 5\n",
    "\n",
    "while attempt > 0:\n",
    "    num = getpass(\"Enter password (or type 'forget'): \")\n",
    "\n",
    "    # If user forgets password\n",
    "    if num.lower() == \"forget\":\n",
    "        print(\"👉 To recover your password, answer the security question:\")\n",
    "        ans = input(security_question).strip().lower()\n",
    "        if ans == security_answer:\n",
    "            print(\"✅ Correct answer! Your password is:\", password)\n",
    "        else:\n",
    "            print(\"❌ Wrong answer! Cannot recover password.\")\n",
    "        # Reduce attempt\n",
    "        attempt -= 1\n",
    "        print(f\"{attempt} attempts left.\\n\")\n",
    "        continue\n",
    "\n",
    "    # If password is correct\n",
    "    if num == password:\n",
    "        print(\"✅ Access granted!\")\n",
    "        break\n",
    "    else:\n",
    "        attempt -= 1\n",
    "        print(f\"❌ Wrong password! {attempt} attempts left.\\n\")\n",
    "        if attempt == 0:\n",
    "            print(\"🔒 Too many wrong attempts! Account locked for 10 seconds.\")\n",
    "            time.sleep(10)  "
   ]
  },
  {
   "cell_type": "code",
   "execution_count": null,
   "id": "59264a24-774f-4024-8850-78fcff4547b1",
   "metadata": {},
   "outputs": [],
   "source": []
  }
 ],
 "metadata": {
  "kernelspec": {
   "display_name": "Python 3 (ipykernel)",
   "language": "python",
   "name": "python3"
  },
  "language_info": {
   "codemirror_mode": {
    "name": "ipython",
    "version": 3
   },
   "file_extension": ".py",
   "mimetype": "text/x-python",
   "name": "python",
   "nbconvert_exporter": "python",
   "pygments_lexer": "ipython3",
   "version": "3.13.5"
  }
 },
 "nbformat": 4,
 "nbformat_minor": 5
}
