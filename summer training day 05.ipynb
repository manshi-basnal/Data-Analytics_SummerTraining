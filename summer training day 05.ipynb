{
 "cells": [
  {
   "cell_type": "code",
   "execution_count": 67,
   "id": "8251f85f-ffa5-4ece-a567-485411175f54",
   "metadata": {},
   "outputs": [],
   "source": [
    "# ******************** DATA STRUCTURE ********************"
   ]
  },
  {
   "cell_type": "code",
   "execution_count": 98,
   "id": "a325096c-c8f6-47b5-99b2-e011dba24744",
   "metadata": {},
   "outputs": [],
   "source": [
    "# LIST"
   ]
  },
  {
   "cell_type": "code",
   "execution_count": null,
   "id": "b4c19000-72ae-4fce-bc34-d1ae0b49e45c",
   "metadata": {},
   "outputs": [],
   "source": [
    "# List Methods"
   ]
  },
  {
   "cell_type": "code",
   "execution_count": 1,
   "id": "c5741639-7a5a-4fa3-8b81-f1ee8234df6f",
   "metadata": {},
   "outputs": [
    {
     "name": "stdout",
     "output_type": "stream",
     "text": [
      "[1, 1, 4, 8, 7, 1]\n"
     ]
    }
   ],
   "source": [
    "lst = [1,1,4,8,7]\n",
    "lst.append(1)\n",
    "print(lst)"
   ]
  },
  {
   "cell_type": "code",
   "execution_count": 2,
   "id": "d73b96fd-22a5-4e4f-8742-ed1fd912d804",
   "metadata": {},
   "outputs": [
    {
     "name": "stdout",
     "output_type": "stream",
     "text": [
      "[1, 5, 1, 4, 8, 7]\n"
     ]
    }
   ],
   "source": [
    "lst = [1,1,4,8,7]\n",
    "lst.insert(1, 5)\n",
    "print(lst)"
   ]
  },
  {
   "cell_type": "code",
   "execution_count": 4,
   "id": "bd850f24-c3f5-4c3c-b092-50356ff8320b",
   "metadata": {},
   "outputs": [
    {
     "name": "stdout",
     "output_type": "stream",
     "text": [
      "[1, 1, 4, 8, 7, 'name']\n"
     ]
    }
   ],
   "source": [
    "lst = [1,1,4,8,7]\n",
    "lst.insert(5, 'name')\n",
    "print(lst)"
   ]
  },
  {
   "cell_type": "code",
   "execution_count": 5,
   "id": "2b0a0e74-cb23-452b-b016-1121465cb6fb",
   "metadata": {},
   "outputs": [
    {
     "name": "stdout",
     "output_type": "stream",
     "text": [
      "[1, 1, 4, 8, 7, 1, 5]\n"
     ]
    }
   ],
   "source": [
    "lst = [1,1,4,8,7]\n",
    "lst.extend([1, 5])\n",
    "print(lst)"
   ]
  },
  {
   "cell_type": "code",
   "execution_count": 6,
   "id": "c63dcdff-5a28-4f42-bac6-12207d70e6c8",
   "metadata": {},
   "outputs": [
    {
     "name": "stdout",
     "output_type": "stream",
     "text": [
      "[1, 1, 4, 8]\n"
     ]
    }
   ],
   "source": [
    "lst = [1,1,4,8,7]\n",
    "lst.pop()\n",
    "print(lst)"
   ]
  },
  {
   "cell_type": "code",
   "execution_count": 7,
   "id": "d9754859-48b3-4186-b11e-adf0f275172b",
   "metadata": {},
   "outputs": [
    {
     "name": "stdout",
     "output_type": "stream",
     "text": [
      "[1, 1, 8, 7]\n"
     ]
    }
   ],
   "source": [
    "lst = [1,1,4,8,7]\n",
    "lst.remove(4)\n",
    "print(lst)"
   ]
  },
  {
   "cell_type": "code",
   "execution_count": 8,
   "id": "4977b943-3e14-47f8-927d-fc9a1a63cde5",
   "metadata": {},
   "outputs": [
    {
     "name": "stdout",
     "output_type": "stream",
     "text": [
      "[]\n"
     ]
    }
   ],
   "source": [
    "lst = [1,1,4,8,7]\n",
    "lst.clear()\n",
    "print(lst)"
   ]
  },
  {
   "cell_type": "code",
   "execution_count": 11,
   "id": "be53bd40-6bd6-47d2-b79f-46dd2facd766",
   "metadata": {},
   "outputs": [
    {
     "data": {
      "text/plain": [
       "3"
      ]
     },
     "execution_count": 11,
     "metadata": {},
     "output_type": "execute_result"
    }
   ],
   "source": [
    "lst = [1,1,4,8,7]\n",
    "lst.index(8)"
   ]
  },
  {
   "cell_type": "code",
   "execution_count": 12,
   "id": "0a220d59-4903-4993-95a1-b7f1e2d05ec4",
   "metadata": {},
   "outputs": [
    {
     "data": {
      "text/plain": [
       "2"
      ]
     },
     "execution_count": 12,
     "metadata": {},
     "output_type": "execute_result"
    }
   ],
   "source": [
    "lst = [1,1,4,8,7]\n",
    "lst.count(1)"
   ]
  },
  {
   "cell_type": "code",
   "execution_count": 15,
   "id": "319b0f23-19d7-4c06-925a-167cc3cb82d9",
   "metadata": {},
   "outputs": [
    {
     "name": "stdout",
     "output_type": "stream",
     "text": [
      "[1, 1, 4, 7, 8]\n"
     ]
    }
   ],
   "source": [
    "lst = [1,1,4,8,7]\n",
    "lst.sort()\n",
    "print(lst)"
   ]
  },
  {
   "cell_type": "code",
   "execution_count": 18,
   "id": "5a9b4a24-31c3-4ead-9c2e-8f74ff535b5e",
   "metadata": {},
   "outputs": [
    {
     "name": "stdout",
     "output_type": "stream",
     "text": [
      "[8, 7, 4, 1, 1]\n"
     ]
    }
   ],
   "source": [
    "lst = [1,1,4,8,7]\n",
    "lst.sort(reverse=True)\n",
    "print(lst)"
   ]
  },
  {
   "cell_type": "code",
   "execution_count": 21,
   "id": "88df7866-180f-4b3a-80cf-5d80d2377bcc",
   "metadata": {},
   "outputs": [
    {
     "name": "stdout",
     "output_type": "stream",
     "text": [
      "[7, 8, 4, 1, 1]\n"
     ]
    }
   ],
   "source": [
    "lst = [1,1,4,8,7]\n",
    "lst.reverse()\n",
    "print(lst)"
   ]
  },
  {
   "cell_type": "code",
   "execution_count": 24,
   "id": "b61f7be8-5750-41e7-b99d-b6ce850bab51",
   "metadata": {},
   "outputs": [
    {
     "name": "stdout",
     "output_type": "stream",
     "text": [
      "[1, 1, 4, 8, 7]\n"
     ]
    }
   ],
   "source": [
    "lst = [1,1,4,8,7]\n",
    "a = lst.copy()\n",
    "print(a)"
   ]
  },
  {
   "cell_type": "code",
   "execution_count": null,
   "id": "fa1b7613-d5c5-46aa-b31c-3baaf59a6fb7",
   "metadata": {},
   "outputs": [],
   "source": [
    "# List Question"
   ]
  },
  {
   "cell_type": "code",
   "execution_count": 26,
   "id": "fd88c649-8708-40eb-ac37-83617ac0c5f3",
   "metadata": {},
   "outputs": [
    {
     "name": "stdout",
     "output_type": "stream",
     "text": [
      "enter 1st number:  3\n",
      "enter 2nd number:  5\n",
      "enter 3rd number:  7\n",
      "enter 4th number:  1\n",
      "enter 5th number:  7\n"
     ]
    },
    {
     "name": "stdout",
     "output_type": "stream",
     "text": [
      "[3, 5, 7, 1, 7]\n"
     ]
    }
   ],
   "source": [
    "# Ques 1: Create an empty list and take 5 numbers as input from the user. Append each number to the list and display the final list.\n",
    "a = []\n",
    "a.append(int(input(\"enter 1st number: \")))\n",
    "a.append(int(input(\"enter 2nd number: \")))\n",
    "a.append(int(input(\"enter 3rd number: \")))\n",
    "a.append(int(input(\"enter 4th number: \")))\n",
    "a.append(int(input(\"enter 5th number: \")))\n",
    "print(a)"
   ]
  },
  {
   "cell_type": "code",
   "execution_count": 27,
   "id": "9699da23-ea34-42a9-b2b9-88a69b3241f2",
   "metadata": {},
   "outputs": [
    {
     "name": "stdout",
     "output_type": "stream",
     "text": [
      "[1, 2, 3, 4, 5, 6]\n"
     ]
    }
   ],
   "source": [
    "# Ques 2: Create two lists: list1 = [1, 2, 3] and list2 = [4, 5, 6]. Extend list1 using list2 and print the updated list.\n",
    "list1 = [1, 2, 3] \n",
    "list2 = [4, 5, 6]\n",
    "list1.extend(list2)   \n",
    "print(list1)"
   ]
  },
  {
   "cell_type": "code",
   "execution_count": 29,
   "id": "59965b19-c2ca-48a2-b1c9-8fb327c40cb5",
   "metadata": {},
   "outputs": [
    {
     "name": "stdout",
     "output_type": "stream",
     "text": [
      "[10, 20, 25, 30, 40]\n"
     ]
    }
   ],
   "source": [
    "# Ques 3: Insert the value 25 at index 2 in the list: l = [10, 20, 30, 40].\n",
    "l = [10, 20, 30, 40]\n",
    "l.insert(2, 25)\n",
    "print(l)"
   ]
  },
  {
   "cell_type": "code",
   "execution_count": 30,
   "id": "3874d29c-f804-4735-ad7e-208f798b0586",
   "metadata": {},
   "outputs": [
    {
     "name": "stdout",
     "output_type": "stream",
     "text": [
      "[10, 30, 20, 40]\n"
     ]
    }
   ],
   "source": [
    "# Ques 4: Remove the first occurrence of the value 20 from the list: l = [10, 20, 30, 20, 40].\n",
    "l = [10, 20, 30, 20, 40]\n",
    "l.remove(20)\n",
    "print(l)"
   ]
  },
  {
   "cell_type": "code",
   "execution_count": 31,
   "id": "f9fcc3b4-4fa0-435c-bc65-4bb5636fd91c",
   "metadata": {},
   "outputs": [
    {
     "name": "stdout",
     "output_type": "stream",
     "text": [
      "[1, 2, 3, 4, 5]\n",
      "[1, 2, 3, 4]\n"
     ]
    }
   ],
   "source": [
    "# Ques 5: Pop the last element from the list [1, 2, 3, 4, 5] and display both the popped item and the updated list.\n",
    "l = [1, 2, 3, 4, 5]\n",
    "print(l)\n",
    "l.pop()\n",
    "print(l)"
   ]
  },
  {
   "cell_type": "code",
   "execution_count": 33,
   "id": "27ac9463-1eb3-48e3-a222-07464a109b9b",
   "metadata": {},
   "outputs": [
    {
     "data": {
      "text/plain": [
       "2"
      ]
     },
     "execution_count": 33,
     "metadata": {},
     "output_type": "execute_result"
    }
   ],
   "source": [
    "# Ques 6: Find and print the index of the element 15 in the list [5, 10, 15, 20, 25].\n",
    "l = [5, 10, 15, 20, 25]\n",
    "l.index(15)"
   ]
  },
  {
   "cell_type": "code",
   "execution_count": 34,
   "id": "b68c6039-f2bf-4d73-9a27-ecae255da1f7",
   "metadata": {},
   "outputs": [
    {
     "data": {
      "text/plain": [
       "4"
      ]
     },
     "execution_count": 34,
     "metadata": {},
     "output_type": "execute_result"
    }
   ],
   "source": [
    "# Ques 7: Count how many times the number 2 appears in the list [1, 2, 2, 3, 2, 4, 2].\n",
    "l = [1, 2, 2, 3, 2, 4, 2]\n",
    "l.count(2)"
   ]
  },
  {
   "cell_type": "code",
   "execution_count": 36,
   "id": "45056222-4403-421f-83e9-b413aa7f0ccd",
   "metadata": {},
   "outputs": [
    {
     "name": "stdout",
     "output_type": "stream",
     "text": [
      "[3, 5, 7, 10]\n",
      "[10, 7, 5, 3]\n"
     ]
    }
   ],
   "source": [
    "# Ques 8: Sort the list [10, 5, 7, 3] in both ascending and descending order.\n",
    "l = [10, 5, 7, 3]\n",
    "l.sort()\n",
    "print(l)\n",
    "l.sort(reverse=True)\n",
    "print(l)\n"
   ]
  },
  {
   "cell_type": "code",
   "execution_count": 37,
   "id": "6723cce7-1714-491f-858c-22e7fa4aa9d9",
   "metadata": {},
   "outputs": [
    {
     "name": "stdout",
     "output_type": "stream",
     "text": [
      "[5, 4, 3, 2, 1]\n"
     ]
    }
   ],
   "source": [
    "# Ques 9: Reverse the list [1, 2, 3, 4, 5] using the reverse() method.\n",
    "l = [1, 2, 3, 4, 5]\n",
    "l.reverse()\n",
    "print(l)"
   ]
  },
  {
   "cell_type": "code",
   "execution_count": 39,
   "id": "429d1a44-93ba-4ac2-a394-2d1f311f38cb",
   "metadata": {},
   "outputs": [
    {
     "name": "stdout",
     "output_type": "stream",
     "text": [
      "Original List: [1, 2, 3]\n",
      "Copied List: [1, 2, 3, 4]\n"
     ]
    }
   ],
   "source": [
    "# Ques 10: Copy the list [1, 2, 3] to a new list, make changes in the copied list, and show that the original list remains unchanged.\n",
    "l = [1, 2, 3]\n",
    "a = l.copy()\n",
    "a.append(4)\n",
    "print(\"Original List:\", l)\n",
    "print(\"Copied List:\", a)"
   ]
  },
  {
   "cell_type": "code",
   "execution_count": 40,
   "id": "c79fdd9e-e116-4969-96e9-fe06247fe881",
   "metadata": {},
   "outputs": [
    {
     "name": "stdout",
     "output_type": "stream",
     "text": [
      "Enter integer 1:  4\n",
      "Enter integer 2:  7\n",
      "Enter integer 3:  8\n",
      "Enter integer 4:  2\n",
      "Enter integer 5:  6\n",
      "Enter integer 6:  7\n",
      "Enter integer 7:  6\n",
      "Enter integer 8:  4\n",
      "Enter integer 9:  2\n",
      "Enter integer 10:  6\n"
     ]
    },
    {
     "name": "stdout",
     "output_type": "stream",
     "text": [
      "The second largest number is: 7\n"
     ]
    }
   ],
   "source": [
    "# Ques 11: Write a program to take a list of 10 integers as input and print the second largest number using list methods.\n",
    "numbers = []\n",
    "for i in range(10):\n",
    "    num = int(input(f\"Enter integer {i+1}: \"))\n",
    "    numbers.append(num)\n",
    "numbers.sort()\n",
    "second_largest = numbers[-2]\n",
    "print(\"The second largest number is:\", second_largest)\n"
   ]
  },
  {
   "cell_type": "code",
   "execution_count": 45,
   "id": "07d0fc76-0319-4b34-9d36-d23d08c764f4",
   "metadata": {},
   "outputs": [
    {
     "name": "stdout",
     "output_type": "stream",
     "text": [
      "[7]\n"
     ]
    }
   ],
   "source": [
    "# Ques 12: Write a program to remove all even numbers from a list of integers and print the updated list.\n",
    "l = [4, 6, 7, 2, 6]\n",
    "for i in l[:]:\n",
    "    if i % 2 == 0:\n",
    "        l.remove(i)\n",
    "print(l)\n",
    "        "
   ]
  },
  {
   "cell_type": "code",
   "execution_count": 46,
   "id": "a5f8cfdb-cf80-4748-a3aa-8d4dc30135f4",
   "metadata": {},
   "outputs": [
    {
     "name": "stdout",
     "output_type": "stream",
     "text": [
      "Enter student name:  radha\n"
     ]
    },
    {
     "name": "stdout",
     "output_type": "stream",
     "text": [
      "Name not exist\n",
      "['ram', 'harman', 'sukhleen', 'geeta']\n"
     ]
    }
   ],
   "source": [
    "# Ques 13: Create a list of student names. Ask the user to enter a name, and remove that name from the list if it exists.\n",
    "name = ['ram', 'harman', 'sukhleen', 'geeta']\n",
    "stuName = input(\"Enter student name: \")\n",
    "if stuName in name:\n",
    "    name.remove(stuName)\n",
    "else:\n",
    "    print(\"Name not exist\")\n",
    "print(name)"
   ]
  },
  {
   "cell_type": "code",
   "execution_count": 48,
   "id": "1222c8f8-01a5-4018-9076-714572bdf61a",
   "metadata": {},
   "outputs": [
    {
     "name": "stdout",
     "output_type": "stream",
     "text": [
      "Enter number:  5\n"
     ]
    },
    {
     "name": "stdout",
     "output_type": "stream",
     "text": [
      "index of  5 is 1\n",
      "[1, 6, 8]\n"
     ]
    }
   ],
   "source": [
    "# Ques 14: Create a list of numbers. Ask the user to enter a number. If it exists, print its index and remove it from the list.\n",
    "number = [1,5,6,8]\n",
    "inputNum = int(input(\"Enter number: \"))\n",
    "if inputNum in number:\n",
    "    idx = number.index(inputNum)\n",
    "    print('index of ', inputNum, 'is', idx)\n",
    "    number.remove(inputNum)\n",
    "else:\n",
    "    print(\"Number not exist\")\n",
    "print(number)"
   ]
  },
  {
   "cell_type": "code",
   "execution_count": 49,
   "id": "281c6510-be50-4f5f-8f3e-89155d1d2215",
   "metadata": {},
   "outputs": [
    {
     "name": "stdout",
     "output_type": "stream",
     "text": [
      "['apple', 'banana', 'grapes', 'mango', 'orange']\n"
     ]
    }
   ],
   "source": [
    "# Ques 15: Create a list of 5 strings. Sort the list in alphabetical order using the sort() method.\n",
    "str = ['apple', 'banana', 'mango', 'orange', 'grapes']\n",
    "str.sort()\n",
    "print(str)"
   ]
  },
  {
   "cell_type": "code",
   "execution_count": 50,
   "id": "bd9a7fe6-4b50-48e1-b06a-bed06ffc3a19",
   "metadata": {},
   "outputs": [
    {
     "data": {
      "text/plain": [
       "2"
      ]
     },
     "execution_count": 50,
     "metadata": {},
     "output_type": "execute_result"
    }
   ],
   "source": [
    "#  Ques 16: Write a program that counts how many times the word \"python\" appears in a list of words.\n",
    "word = ['name', 'python', 'mango', 'java', 'python']\n",
    "word.count('python')"
   ]
  },
  {
   "cell_type": "code",
   "execution_count": 53,
   "id": "9b56b228-6c40-4583-9584-00a875162bb2",
   "metadata": {},
   "outputs": [
    {
     "name": "stdout",
     "output_type": "stream",
     "text": [
      "Original List: [1, 2, 3]\n",
      "Copied List: [1, 2, 3, 4]\n"
     ]
    }
   ],
   "source": [
    "# Ques 17: Make a copy of a list using the copy() method. Then modify the copied list and show that the original list is unchanged.\n",
    "l = [1, 2, 3]\n",
    "a = l.copy()\n",
    "a.append(4)\n",
    "print(\"Original List:\", l)\n",
    "print(\"Copied List:\", a)"
   ]
  },
  {
   "cell_type": "code",
   "execution_count": 55,
   "id": "036f2cea-f0dd-45c7-b567-364ed688b09c",
   "metadata": {},
   "outputs": [
    {
     "name": "stdout",
     "output_type": "stream",
     "text": [
      "[1, 1, 4, 8, 3, 7, 6, 9]\n"
     ]
    }
   ],
   "source": [
    "# Ques 18: Take a list of 7 numbers. Insert a number at the middle index using the insert() method.\n",
    "lst = [1,1,4,8,7, 6, 9]\n",
    "lst.insert(4, 3)\n",
    "print(lst)"
   ]
  },
  {
   "cell_type": "code",
   "execution_count": 96,
   "id": "c5b4c1e5-680d-4271-9c28-d25218bd3a2e",
   "metadata": {},
   "outputs": [
    {
     "name": "stdout",
     "output_type": "stream",
     "text": [
      "Popped element: 4\n",
      "Popped element: 3\n",
      "Popped element: 2\n",
      "Popped element: 1\n",
      "List is now empty.\n"
     ]
    }
   ],
   "source": [
    "#  Ques 19: Create a list and use pop() to remove elements one by one until the list becomes empty. Print each popped element.\n",
    "items = [1, 2, 3, 4]\n",
    "while items:\n",
    "    popped = items.pop()\n",
    "    print(\"Popped element:\", popped)\n",
    "print(\"List is now empty.\")"
   ]
  },
  {
   "cell_type": "code",
   "execution_count": 97,
   "id": "2d32fd7a-df8e-4e66-885b-9c0cccbb4dc4",
   "metadata": {},
   "outputs": [
    {
     "name": "stdout",
     "output_type": "stream",
     "text": [
      "Unique elements: [3, 5]\n"
     ]
    }
   ],
   "source": [
    "# Ques 20: Create a list of numbers and display only the unique elements using count() method logic (no set used).\n",
    "nums = [1, 2, 2, 3, 4, 4, 5, 1]\n",
    "unique = []\n",
    "for n in nums:\n",
    "    if nums.count(n) == 1:\n",
    "        unique.append(n)\n",
    "print(\"Unique elements:\", unique)"
   ]
  },
  {
   "cell_type": "code",
   "execution_count": null,
   "id": "cb41a47f-7b1f-454e-842f-3076efee88aa",
   "metadata": {},
   "outputs": [],
   "source": [
    "# List comprehension"
   ]
  },
  {
   "cell_type": "code",
   "execution_count": 64,
   "id": "364fd472-c98b-435a-af83-d3ac1c49313f",
   "metadata": {},
   "outputs": [
    {
     "data": {
      "text/plain": [
       "[1, 4, 9]"
      ]
     },
     "execution_count": 64,
     "metadata": {},
     "output_type": "execute_result"
    }
   ],
   "source": [
    "[i**2 for i in [1,2,3]]"
   ]
  },
  {
   "cell_type": "code",
   "execution_count": 66,
   "id": "ef0bc6eb-c167-4e7c-af50-e65c577b4929",
   "metadata": {},
   "outputs": [
    {
     "data": {
      "text/plain": [
       "[15, 17, 25, 27, 35, 37]"
      ]
     },
     "execution_count": 66,
     "metadata": {},
     "output_type": "execute_result"
    }
   ],
   "source": [
    "[10*i+j for i in [1,2,3] for j in [5,7]]"
   ]
  },
  {
   "cell_type": "code",
   "execution_count": 69,
   "id": "4678c08b-b54f-4348-98e0-74d1cab57572",
   "metadata": {},
   "outputs": [],
   "source": [
    "# TUPLE"
   ]
  },
  {
   "cell_type": "code",
   "execution_count": null,
   "id": "242fd553-af50-4952-a4e2-c0f3b4bb670e",
   "metadata": {},
   "outputs": [],
   "source": [
    "# Tuple method"
   ]
  },
  {
   "cell_type": "code",
   "execution_count": 70,
   "id": "305b7afc-a4df-4ca2-9ef2-4087e8fe812a",
   "metadata": {},
   "outputs": [
    {
     "data": {
      "text/plain": [
       "3"
      ]
     },
     "execution_count": 70,
     "metadata": {},
     "output_type": "execute_result"
    }
   ],
   "source": [
    "d=tuple('a string with many \"a\"s')\n",
    "d.count('a')"
   ]
  },
  {
   "cell_type": "code",
   "execution_count": 71,
   "id": "2ecf1abe-5499-4159-a41b-72aeb9e878dc",
   "metadata": {},
   "outputs": [
    {
     "data": {
      "text/plain": [
       "0"
      ]
     },
     "execution_count": 71,
     "metadata": {},
     "output_type": "execute_result"
    }
   ],
   "source": [
    "d=tuple('a string with many \"a\"s')\n",
    "d.index('a')"
   ]
  },
  {
   "cell_type": "code",
   "execution_count": 99,
   "id": "af34862b-726e-4b0d-a002-09adc49d9df7",
   "metadata": {},
   "outputs": [],
   "source": [
    "# SET"
   ]
  },
  {
   "cell_type": "code",
   "execution_count": null,
   "id": "3d0b6fcd-0522-44d7-8386-cffb6c7394cd",
   "metadata": {},
   "outputs": [],
   "source": [
    "# Set method"
   ]
  },
  {
   "cell_type": "code",
   "execution_count": 72,
   "id": "2d094535-d2dc-4d0d-ac4d-16b78168f8ca",
   "metadata": {},
   "outputs": [
    {
     "name": "stdout",
     "output_type": "stream",
     "text": [
      "{0, 1, 2, 3}\n"
     ]
    }
   ],
   "source": [
    "set1 = set([1, 2, 3])\n",
    "set1.add(0)\n",
    "print(set1)"
   ]
  },
  {
   "cell_type": "code",
   "execution_count": 76,
   "id": "9a9736ce-3214-414f-a41a-742264671a9f",
   "metadata": {},
   "outputs": [
    {
     "data": {
      "text/plain": [
       "{1, 2, 3, 4, 5}"
      ]
     },
     "execution_count": 76,
     "metadata": {},
     "output_type": "execute_result"
    }
   ],
   "source": [
    "set1 = set([1, 2, 3])\n",
    "set2 = set([2, 3 , 4, 5])\n",
    "set1.union(set2)"
   ]
  },
  {
   "cell_type": "code",
   "execution_count": 77,
   "id": "1750c258-0295-4439-9469-299eaad102a8",
   "metadata": {},
   "outputs": [
    {
     "data": {
      "text/plain": [
       "1"
      ]
     },
     "execution_count": 77,
     "metadata": {},
     "output_type": "execute_result"
    }
   ],
   "source": [
    "set1 = set([1, 2, 3])\n",
    "set1.pop()"
   ]
  },
  {
   "cell_type": "code",
   "execution_count": 78,
   "id": "89270fad-b214-49eb-a281-97c6a7f00bf7",
   "metadata": {},
   "outputs": [
    {
     "name": "stdout",
     "output_type": "stream",
     "text": [
      "{1, 3}\n"
     ]
    }
   ],
   "source": [
    "set1 = set([1, 2, 3])\n",
    "set1.remove(2)\n",
    "print(set1)"
   ]
  },
  {
   "cell_type": "code",
   "execution_count": 79,
   "id": "c08475df-f0eb-4bed-b6aa-343cc1b49d7e",
   "metadata": {},
   "outputs": [
    {
     "data": {
      "text/plain": [
       "{2, 3}"
      ]
     },
     "execution_count": 79,
     "metadata": {},
     "output_type": "execute_result"
    }
   ],
   "source": [
    "set1 = set([1, 2, 3])\n",
    "set2 = set([2, 3 , 4, 5])\n",
    "set1.intersection(set2)"
   ]
  },
  {
   "cell_type": "code",
   "execution_count": 80,
   "id": "8345b339-eaf5-4fbc-94cd-2537fe9a4d1a",
   "metadata": {},
   "outputs": [
    {
     "data": {
      "text/plain": [
       "{1}"
      ]
     },
     "execution_count": 80,
     "metadata": {},
     "output_type": "execute_result"
    }
   ],
   "source": [
    "set1 = set([1, 2, 3])\n",
    "set2 = set([2, 3 , 4, 5])\n",
    "set1.difference(set2)"
   ]
  },
  {
   "cell_type": "code",
   "execution_count": 88,
   "id": "ec04e872-19bb-484b-8eca-d79b8f934bb9",
   "metadata": {},
   "outputs": [
    {
     "data": {
      "text/plain": [
       "{1, 4, 5}"
      ]
     },
     "execution_count": 88,
     "metadata": {},
     "output_type": "execute_result"
    }
   ],
   "source": [
    "set1 = set([1, 2, 3])\n",
    "set2 = set([2, 3 , 4, 5])\n",
    "set2.symmetric_difference(set1)"
   ]
  },
  {
   "cell_type": "code",
   "execution_count": 89,
   "id": "476cf9ac-f256-4a03-bbea-e951acb46880",
   "metadata": {},
   "outputs": [
    {
     "data": {
      "text/plain": [
       "False"
      ]
     },
     "execution_count": 89,
     "metadata": {},
     "output_type": "execute_result"
    }
   ],
   "source": [
    "set1 = set([1, 2, 3])\n",
    "set2 = set([2, 3 , 4, 5])\n",
    "set1.issubset(set2)"
   ]
  },
  {
   "cell_type": "code",
   "execution_count": 90,
   "id": "e5cc504c-5a49-421f-8920-7fe21d92aba5",
   "metadata": {},
   "outputs": [
    {
     "data": {
      "text/plain": [
       "False"
      ]
     },
     "execution_count": 90,
     "metadata": {},
     "output_type": "execute_result"
    }
   ],
   "source": [
    "set1 = set([1, 2, 3])\n",
    "set2 = set([2, 3 , 4, 5])\n",
    "set1.isdisjoint(set2)"
   ]
  },
  {
   "cell_type": "code",
   "execution_count": 91,
   "id": "9fa3f542-1e5e-48ac-bfff-af9fd28cc6e8",
   "metadata": {},
   "outputs": [
    {
     "data": {
      "text/plain": [
       "False"
      ]
     },
     "execution_count": 91,
     "metadata": {},
     "output_type": "execute_result"
    }
   ],
   "source": [
    "set1 = set([1, 2, 3])\n",
    "set2 = set([2, 3 , 4, 5])\n",
    "set1.issuperset(set2)"
   ]
  },
  {
   "cell_type": "code",
   "execution_count": 101,
   "id": "f4cefb16-8fc0-4b14-ab2f-7253d208a4af",
   "metadata": {},
   "outputs": [
    {
     "name": "stdout",
     "output_type": "stream",
     "text": [
      "set()\n"
     ]
    }
   ],
   "source": [
    "set1 = set([1, 2, 3])\n",
    "set1.clear()\n",
    "print(set1)"
   ]
  },
  {
   "cell_type": "code",
   "execution_count": 92,
   "id": "b0dd6256-a3f2-4e09-a607-0eac61046b72",
   "metadata": {},
   "outputs": [],
   "source": [
    "# DICTIONARIES"
   ]
  },
  {
   "cell_type": "code",
   "execution_count": null,
   "id": "a4421387-a8b8-4dec-81e2-a6667cd1aa47",
   "metadata": {},
   "outputs": [],
   "source": [
    "# Dictionaries method"
   ]
  },
  {
   "cell_type": "code",
   "execution_count": 93,
   "id": "69c5b659-da15-4b48-99fe-bd0d66318ac5",
   "metadata": {},
   "outputs": [
    {
     "data": {
      "text/plain": [
       "3"
      ]
     },
     "execution_count": 93,
     "metadata": {},
     "output_type": "execute_result"
    }
   ],
   "source": [
    "d = {1:'one', 2:'two', 100:'hundred'}\n",
    "len(d)"
   ]
  },
  {
   "cell_type": "code",
   "execution_count": 94,
   "id": "16995c89-0884-4fb7-acf3-22cc59cb24f3",
   "metadata": {},
   "outputs": [
    {
     "data": {
      "text/plain": [
       "['one', 'two', 'hundred']"
      ]
     },
     "execution_count": 94,
     "metadata": {},
     "output_type": "execute_result"
    }
   ],
   "source": [
    "a1 = {1:'one', 2:'two', 100:'hundred'}\n",
    "[v for v in a1.values()]"
   ]
  },
  {
   "cell_type": "code",
   "execution_count": 95,
   "id": "77dca793-e865-466c-9340-92ef12f3f56f",
   "metadata": {},
   "outputs": [
    {
     "data": {
      "text/plain": [
       "{1, 2, 100}"
      ]
     },
     "execution_count": 95,
     "metadata": {},
     "output_type": "execute_result"
    }
   ],
   "source": [
    "a1 = {1:'one', 2:'two', 100:'hundred'}\n",
    "{k for k in a1.keys()}"
   ]
  },
  {
   "cell_type": "code",
   "execution_count": 103,
   "id": "d6aadec6-c17b-4225-885f-29857b9da6e0",
   "metadata": {},
   "outputs": [
    {
     "data": {
      "text/plain": [
       "dict_items([(1, 'one'), (2, 'two'), (100, 'hundred')])"
      ]
     },
     "execution_count": 103,
     "metadata": {},
     "output_type": "execute_result"
    }
   ],
   "source": [
    "a1 = {1:'one', 2:'two', 100:'hundred'}\n",
    "a1.items()"
   ]
  },
  {
   "cell_type": "code",
   "execution_count": 104,
   "id": "6145553e-bd85-4805-a17b-0cdf7fc30b2a",
   "metadata": {},
   "outputs": [
    {
     "data": {
      "text/plain": [
       "'two'"
      ]
     },
     "execution_count": 104,
     "metadata": {},
     "output_type": "execute_result"
    }
   ],
   "source": [
    "a1 = {1:'one', 2:'two', 100:'hundred'}\n",
    "a1.get(2)"
   ]
  },
  {
   "cell_type": "code",
   "execution_count": 106,
   "id": "64d5dbef-32f1-4764-9739-92a4329e4e91",
   "metadata": {},
   "outputs": [
    {
     "data": {
      "text/plain": [
       "'two'"
      ]
     },
     "execution_count": 106,
     "metadata": {},
     "output_type": "execute_result"
    }
   ],
   "source": [
    "a1 = {1:'one', 2:'two', 100:'hundred'}\n",
    "a1.pop(2)"
   ]
  },
  {
   "cell_type": "code",
   "execution_count": 107,
   "id": "c9e2a469-890f-426b-af98-bd0efb5f2069",
   "metadata": {},
   "outputs": [
    {
     "data": {
      "text/plain": [
       "(100, 'hundred')"
      ]
     },
     "execution_count": 107,
     "metadata": {},
     "output_type": "execute_result"
    }
   ],
   "source": [
    "a1 = {1:'one', 2:'two', 100:'hundred'}\n",
    "a1.popitem()"
   ]
  },
  {
   "cell_type": "code",
   "execution_count": 108,
   "id": "20255bc1-a6ca-454d-a119-0919a5c5011b",
   "metadata": {},
   "outputs": [
    {
     "name": "stdout",
     "output_type": "stream",
     "text": [
      "{1: 'one', 2: 'two', 100: 'hundred'}\n"
     ]
    }
   ],
   "source": [
    "a1 = {1:'one', 2:'two', 100:'hundred'}\n",
    "a2 = a1.copy()\n",
    "print(a2)"
   ]
  },
  {
   "cell_type": "code",
   "execution_count": 109,
   "id": "aa702ddc-9bb5-4ca1-adcd-5ddb6826d5fb",
   "metadata": {},
   "outputs": [
    {
     "data": {
      "text/plain": [
       "'two'"
      ]
     },
     "execution_count": 109,
     "metadata": {},
     "output_type": "execute_result"
    }
   ],
   "source": [
    "a1 = {1:'one', 2:'two', 100:'hundred'}\n",
    "a1.setdefault(2, 'two')"
   ]
  },
  {
   "cell_type": "code",
   "execution_count": null,
   "id": "8544ea4a-5ea8-4f3b-a425-0004e26c7f1b",
   "metadata": {},
   "outputs": [],
   "source": [
    "a1 = {1:'one', 2:'two', 100:'hundred'}\n",
    "a2 = {3:'three', 4:'four'}\n",
    "a2.update(a1)\n",
    "print(a2)"
   ]
  }
 ],
 "metadata": {
  "kernelspec": {
   "display_name": "Python 3 (ipykernel)",
   "language": "python",
   "name": "python3"
  },
  "language_info": {
   "codemirror_mode": {
    "name": "ipython",
    "version": 3
   },
   "file_extension": ".py",
   "mimetype": "text/x-python",
   "name": "python",
   "nbconvert_exporter": "python",
   "pygments_lexer": "ipython3",
   "version": "3.13.5"
  }
 },
 "nbformat": 4,
 "nbformat_minor": 5
}
