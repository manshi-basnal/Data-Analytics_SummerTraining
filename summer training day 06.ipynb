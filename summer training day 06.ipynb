{
 "cells": [
  {
   "cell_type": "code",
   "execution_count": null,
   "id": "71dd72cf-45f2-4d19-b159-a35fcad53a66",
   "metadata": {},
   "outputs": [],
   "source": [
    "# STRING"
   ]
  },
  {
   "cell_type": "code",
   "execution_count": 1,
   "id": "70da5aca-add5-4b1c-bce3-5487ffde8c1d",
   "metadata": {},
   "outputs": [],
   "source": [
    "# String Methods"
   ]
  },
  {
   "cell_type": "code",
   "execution_count": 2,
   "id": "b0e928ef-a84f-4a6d-a2e3-ccf0e4b08f92",
   "metadata": {},
   "outputs": [
    {
     "name": "stdout",
     "output_type": "stream",
     "text": [
      "Hello world\n"
     ]
    }
   ],
   "source": [
    "s = \"hello world\"\n",
    "print(s.capitalize())"
   ]
  },
  {
   "cell_type": "code",
   "execution_count": 3,
   "id": "6f0e850d-3a04-407d-ab25-a7b32dc93e1b",
   "metadata": {},
   "outputs": [
    {
     "name": "stdout",
     "output_type": "stream",
     "text": [
      "HELLO\n"
     ]
    }
   ],
   "source": [
    "s = \"hello\"\n",
    "print(s.upper())"
   ]
  },
  {
   "cell_type": "code",
   "execution_count": 4,
   "id": "587b7ac4-1e3f-44bb-bd4c-68f5090117e0",
   "metadata": {},
   "outputs": [
    {
     "name": "stdout",
     "output_type": "stream",
     "text": [
      "hello\n"
     ]
    }
   ],
   "source": [
    "s = \"HELLO\"\n",
    "print(s.lower())"
   ]
  },
  {
   "cell_type": "code",
   "execution_count": 5,
   "id": "836c5c3c-f3b0-4239-91df-cc64740afb10",
   "metadata": {},
   "outputs": [
    {
     "name": "stdout",
     "output_type": "stream",
     "text": [
      "Hello World\n"
     ]
    }
   ],
   "source": [
    "s = \"hello world\"\n",
    "print(s.title())"
   ]
  },
  {
   "cell_type": "code",
   "execution_count": 6,
   "id": "57ef7b0b-dc32-409d-a105-37ca4fe8f8c1",
   "metadata": {},
   "outputs": [
    {
     "name": "stdout",
     "output_type": "stream",
     "text": [
      "hEllO wOrlD\n"
     ]
    }
   ],
   "source": [
    "s = \"HeLLo WoRLd\"\n",
    "print(s.swapcase())"
   ]
  },
  {
   "cell_type": "code",
   "execution_count": 7,
   "id": "3929f248-de4b-4217-862e-13c1b27303df",
   "metadata": {},
   "outputs": [
    {
     "name": "stdout",
     "output_type": "stream",
     "text": [
      "hello\n",
      "hello     \n",
      "     hello\n"
     ]
    }
   ],
   "source": [
    "s = \"     hello     \"\n",
    "print(s.strip())\n",
    "print(s.lstrip())\n",
    "print(s.rstrip())"
   ]
  },
  {
   "cell_type": "code",
   "execution_count": 8,
   "id": "bda73ef8-1dd4-4edf-90c6-950a105343cc",
   "metadata": {},
   "outputs": [
    {
     "name": "stdout",
     "output_type": "stream",
     "text": [
      "hello p\n"
     ]
    }
   ],
   "source": [
    "s = \"hello world\"\n",
    "print(s.replace(\"world\", \"p\"))"
   ]
  },
  {
   "cell_type": "code",
   "execution_count": 9,
   "id": "4ec7a4fa-5506-4629-bb28-0af89bb373cd",
   "metadata": {},
   "outputs": [
    {
     "name": "stdout",
     "output_type": "stream",
     "text": [
      "['apple', ' banana', ' grape']\n"
     ]
    }
   ],
   "source": [
    "s = \"apple, banana, grape\"\n",
    "print(s.split(\",\"))"
   ]
  },
  {
   "cell_type": "code",
   "execution_count": 10,
   "id": "97ca66dd-536e-426f-9738-081d15151445",
   "metadata": {},
   "outputs": [
    {
     "name": "stdout",
     "output_type": "stream",
     "text": [
      "a-b-c\n"
     ]
    }
   ],
   "source": [
    "s = [\"a\", \"b\", \"c\"]\n",
    "print(\"-\".join(s))"
   ]
  },
  {
   "cell_type": "code",
   "execution_count": 11,
   "id": "2ed2df63-b900-42e5-9376-2aa954f87f8e",
   "metadata": {},
   "outputs": [
    {
     "name": "stdout",
     "output_type": "stream",
     "text": [
      "6\n"
     ]
    }
   ],
   "source": [
    "s = \"hello world\"\n",
    "print(s.find(\"world\"))"
   ]
  },
  {
   "cell_type": "code",
   "execution_count": 12,
   "id": "d04493e2-c647-4410-9555-3d9bb28cf7ce",
   "metadata": {},
   "outputs": [
    {
     "name": "stdout",
     "output_type": "stream",
     "text": [
      "1\n"
     ]
    }
   ],
   "source": [
    "s = \"hello world\"\n",
    "print(s.index(\"e\"))"
   ]
  },
  {
   "cell_type": "code",
   "execution_count": 13,
   "id": "98a44342-8e23-4118-a9b3-97f9c5be7a63",
   "metadata": {},
   "outputs": [
    {
     "name": "stdout",
     "output_type": "stream",
     "text": [
      "3\n"
     ]
    }
   ],
   "source": [
    "s = \"hello world\"\n",
    "print(s.count(\"l\"))"
   ]
  },
  {
   "cell_type": "code",
   "execution_count": 14,
   "id": "716da8e3-c0dc-4162-8fa8-19867f26fb1b",
   "metadata": {},
   "outputs": [
    {
     "name": "stdout",
     "output_type": "stream",
     "text": [
      "True\n"
     ]
    }
   ],
   "source": [
    "s = \"abcXYZ\"\n",
    "print(s.isalpha())"
   ]
  },
  {
   "cell_type": "code",
   "execution_count": 15,
   "id": "71ee8fed-0302-447a-91a1-1c901024055c",
   "metadata": {},
   "outputs": [
    {
     "name": "stdout",
     "output_type": "stream",
     "text": [
      "True\n"
     ]
    }
   ],
   "source": [
    "s = \"12345\"\n",
    "print(s.isdigit())"
   ]
  },
  {
   "cell_type": "code",
   "execution_count": 16,
   "id": "a6502168-fbb0-4816-bd0e-ec172188385e",
   "metadata": {},
   "outputs": [
    {
     "name": "stdout",
     "output_type": "stream",
     "text": [
      "My name is Manshi and I am 20 years old.\n"
     ]
    }
   ],
   "source": [
    "name = \"Manshi\"\n",
    "age = 20\n",
    "print(\"My name is {} and I am {} years old.\". format(name, age))"
   ]
  },
  {
   "cell_type": "code",
   "execution_count": 17,
   "id": "6d2821a8-7eb6-4b3e-96e6-081caf0eac1c",
   "metadata": {},
   "outputs": [
    {
     "data": {
      "text/plain": [
       "True"
      ]
     },
     "execution_count": 17,
     "metadata": {},
     "output_type": "execute_result"
    }
   ],
   "source": [
    "\"abc123\".isalnum()"
   ]
  },
  {
   "cell_type": "code",
   "execution_count": 18,
   "id": "92474ffa-dfe2-4a44-9fc0-9cd11969c4e4",
   "metadata": {},
   "outputs": [],
   "source": [
    "# ATM using function"
   ]
  },
  {
   "cell_type": "code",
   "execution_count": 19,
   "id": "44ef869f-a850-4c1c-8208-65fd052fc0e0",
   "metadata": {},
   "outputs": [
    {
     "name": "stdout",
     "output_type": "stream",
     "text": [
      "If you want to deposit so type 1. And if you want to withdrawl type 0.\n"
     ]
    },
    {
     "name": "stdin",
     "output_type": "stream",
     "text": [
      " 1\n",
      " 500\n"
     ]
    },
    {
     "name": "stdout",
     "output_type": "stream",
     "text": [
      "Total amount 10500\n"
     ]
    }
   ],
   "source": [
    "def atm():\n",
    "    total_amount = 10000\n",
    "    print(\"If you want to deposit so type 1. And if you want to withdrawl type 0.\")\n",
    "    user_input = int(input())\n",
    "    if user_input == 1:\n",
    "        deposite_amount = int(input())\n",
    "        total_amount += deposite_amount\n",
    "        print(\"Total amount\", total_amount)\n",
    "    elif user_input == 0:\n",
    "        withdrawl_amount = int(input())\n",
    "        total_amount -= withdrawl_amount\n",
    "        print(\"Total amount\", total_amount)\n",
    "    else:\n",
    "        print(\"No transection\")\n",
    "atm()"
   ]
  },
  {
   "cell_type": "code",
   "execution_count": 20,
   "id": "a802faea-9daf-4cb0-9ead-eac648f398af",
   "metadata": {},
   "outputs": [],
   "source": [
    "# file handling"
   ]
  },
  {
   "cell_type": "code",
   "execution_count": null,
   "id": "9daa2484-fad9-43e4-bdde-1197e69229fe",
   "metadata": {},
   "outputs": [],
   "source": [
    "# read file"
   ]
  },
  {
   "cell_type": "code",
   "execution_count": null,
   "id": "af0d7280-1b65-4115-984e-639ae34a2712",
   "metadata": {},
   "outputs": [],
   "source": [
    "file = open(\"myfile.txt\", \"r\")\n",
    "content = file.read()\n",
    "file.close()"
   ]
  },
  {
   "cell_type": "code",
   "execution_count": null,
   "id": "29c14706-166c-430b-a2a9-b0d1748fa312",
   "metadata": {},
   "outputs": [],
   "source": [
    "# write in file"
   ]
  },
  {
   "cell_type": "code",
   "execution_count": null,
   "id": "9eb850ce-11b2-4d1f-ad89-39ea27bc5a55",
   "metadata": {},
   "outputs": [],
   "source": [
    "file = open(\"myfile.txt\", \"w\")\n",
    "file.write(\"Python is awesome!\\n\")\n",
    "file.write(\"file handling is easy\")\n",
    "file.close()"
   ]
  },
  {
   "cell_type": "code",
   "execution_count": null,
   "id": "84727ac8-ce23-4d20-abfc-de8e6b5fcf26",
   "metadata": {},
   "outputs": [],
   "source": [
    "# appending at the end in file"
   ]
  },
  {
   "cell_type": "code",
   "execution_count": null,
   "id": "c6b12749-125c-45d0-b8d3-1dfdb3aa75af",
   "metadata": {},
   "outputs": [],
   "source": [
    "file = open(\"myfile.txt\", \"a\")\n",
    "file.write(\"\\nThis line is added.\")\n",
    "file.close()"
   ]
  },
  {
   "cell_type": "code",
   "execution_count": null,
   "id": "289960aa-0099-4b2d-8b32-020f1e0ca93e",
   "metadata": {},
   "outputs": [],
   "source": [
    "# delete file"
   ]
  },
  {
   "cell_type": "code",
   "execution_count": null,
   "id": "09eaf994-e449-4b3e-9399-85d28a95955b",
   "metadata": {},
   "outputs": [],
   "source": [
    "import os\n",
    "if os.path.exists(\"data.txt\"):\n",
    "    os.remove(\"data.txt\")\n",
    "    print(\"File deleted\")\n",
    "else:\n",
    "    print(\"File doesn't exist\")"
   ]
  },
  {
   "cell_type": "code",
   "execution_count": null,
   "id": "f4025750-dbc8-49c9-8079-c801521f7790",
   "metadata": {},
   "outputs": [],
   "source": [
    "# create ne"
   ]
  },
  {
   "cell_type": "code",
   "execution_count": null,
   "id": "48b98b4b-6c87-46a5-b92c-1e4af779c29d",
   "metadata": {},
   "outputs": [],
   "source": [
    "file = open(\"newfile.txt\", \"x\")\n",
    "file.write(\"file created.\")\n",
    "file.close()"
   ]
  },
  {
   "cell_type": "code",
   "execution_count": 22,
   "id": "0bb715e8-2156-4219-bec7-2504b1d1d0dd",
   "metadata": {},
   "outputs": [],
   "source": [
    "# Factorial function "
   ]
  },
  {
   "cell_type": "code",
   "execution_count": 23,
   "id": "6614ddf0-bcaa-4b66-acfc-92f682c932bc",
   "metadata": {},
   "outputs": [
    {
     "name": "stdout",
     "output_type": "stream",
     "text": [
      "6\n"
     ]
    }
   ],
   "source": [
    "def fact(n):\n",
    "    if n < 0:\n",
    "        return \"Factorial is not defined for negative numbers.\"\n",
    "    elif n == 0 or n == 1:\n",
    "        return 1\n",
    "    else:\n",
    "        result = 1\n",
    "        for i in range(2, n + 1):\n",
    "            result *= i\n",
    "        return result\n",
    "print(fact(3))"
   ]
  },
  {
   "cell_type": "code",
   "execution_count": 24,
   "id": "00479fa4-33ba-4391-9ed4-a808c1ceec86",
   "metadata": {},
   "outputs": [],
   "source": [
    "# prime number function"
   ]
  },
  {
   "cell_type": "code",
   "execution_count": 27,
   "id": "06f92749-c9e7-40cc-873d-c901d803cea3",
   "metadata": {},
   "outputs": [
    {
     "name": "stdin",
     "output_type": "stream",
     "text": [
      "Enter a number:  6\n"
     ]
    },
    {
     "name": "stdout",
     "output_type": "stream",
     "text": [
      "6 is not a prime number.\n"
     ]
    }
   ],
   "source": [
    "def isPrime(n):\n",
    "    if n <= 1:\n",
    "        return False\n",
    "    for i in range(2, int(n**0.5) + 1):\n",
    "        if n % i == 0:\n",
    "            return False\n",
    "    return True\n",
    "num = int(input(\"Enter a number: \"))\n",
    "if isPrime(num):\n",
    "    print(f\"{num} is a prime number.\")\n",
    "else:\n",
    "    print(f\"{num} is not a prime number.\")"
   ]
  },
  {
   "cell_type": "code",
   "execution_count": null,
   "id": "0db03bed-166b-4de2-a860-9cf7539d83da",
   "metadata": {},
   "outputs": [],
   "source": []
  }
 ],
 "metadata": {
  "kernelspec": {
   "display_name": "Python 3 (ipykernel)",
   "language": "python",
   "name": "python3"
  },
  "language_info": {
   "codemirror_mode": {
    "name": "ipython",
    "version": 3
   },
   "file_extension": ".py",
   "mimetype": "text/x-python",
   "name": "python",
   "nbconvert_exporter": "python",
   "pygments_lexer": "ipython3",
   "version": "3.13.5"
  }
 },
 "nbformat": 4,
 "nbformat_minor": 5
}
