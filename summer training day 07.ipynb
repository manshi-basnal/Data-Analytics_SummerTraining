{
 "cells": [
  {
   "cell_type": "markdown",
   "id": "a298eaee",
   "metadata": {},
   "source": [
    "<!-- My sql  -->"
   ]
  },
  {
   "cell_type": "code",
   "execution_count": null,
   "id": "713b66e4-e203-4c36-907b-028ca25bb162",
   "metadata": {},
   "outputs": [],
   "source": [
    "import sqlite3\n",
    "conn  = sqlite3.connect('manshi.db')\n",
    "cursor = conn.cursor()"
   ]
  },
  {
   "cell_type": "code",
   "execution_count": null,
   "id": "ec03aa1e-2bf5-4148-86b6-da511f3b625a",
   "metadata": {},
   "outputs": [],
   "source": [
    "cursor.execute(''' CREATE TABLE IF NOT EXISTS manshi(id INTEGER PRIMARY KEY AUTOINCREMENT, \n",
    "                   name TEXT NOT NULL,\n",
    "                   age INTEGER,\n",
    "                   grade TEXT\n",
    "    )''')\n",
    "conn.commit()\n",
    "print(\"Table created successfully\")"
   ]
  },
  {
   "cell_type": "code",
   "execution_count": null,
   "id": "28c2bf3a-98ee-46b2-910a-03149d4ec232",
   "metadata": {},
   "outputs": [],
   "source": [
    "def insert_student(name, age, grade):\n",
    "    cursor.execute(\"INSERT INTO manshi (name, age, grade) VALUES (?, ?, ?)\", (name, age, grade))\n",
    "    conn.commit()\n",
    "    print(\"Student inserted successfully.\")\n",
    "\n",
    "\n",
    "insert_student('Riya', 20, 'A')\n",
    "insert_student('Divyank', 22, 'B')"
   ]
  },
  {
   "cell_type": "code",
   "execution_count": null,
   "id": "39cc537b-d0d7-46b7-bab1-16a59d539962",
   "metadata": {},
   "outputs": [],
   "source": [
    "def fetch_students():\n",
    "    cursor.execute(\"SELECT * FROM manshi\")\n",
    "    rows = cursor.fetchall()\n",
    "    for row in rows:\n",
    "        print(row)\n",
    "fetch_students()"
   ]
  },
  {
   "cell_type": "code",
   "execution_count": null,
   "id": "ea26b8fe-d2c1-4c4c-b14d-72b1f6d267b1",
   "metadata": {},
   "outputs": [],
   "source": [
    "def update_student(student_id, new_name, new_age, new_grade):\n",
    "    cursor.execute(\"UPDATE manshi SET name=?, age=?, grade=? WHERE id=?\", (new_name, new_age, new_grade, student_id))\n",
    "    conn.commit()\n",
    "    print(\"Student updated successfully.\")\n",
    "update_student(1, 'Riya Sharma', 21, 'A+')"
   ]
  },
  {
   "cell_type": "code",
   "execution_count": null,
   "id": "db521be2-8919-4a31-b6cd-6a9e4a766cd9",
   "metadata": {},
   "outputs": [],
   "source": [
    "def delete_student(student_id):\n",
    "    cursor.execute(\"DELETE FROM manshi WHERE id=?\", (student_id,))\n",
    "    conn.commit()\n",
    "    print(\"Student deleted successfully.\")\n",
    "delete_student(2)\n"
   ]
  },
  {
   "cell_type": "code",
   "execution_count": null,
   "id": "cf6f8eec-5984-4c92-bd8b-f2f67efe77ee",
   "metadata": {},
   "outputs": [],
   "source": [
    "conn.close()\n",
    "print(\"Database connection closed.\")"
   ]
  },
  {
   "cell_type": "code",
   "execution_count": null,
   "id": "bdfa744c-62b5-4212-9716-aba94d4e4861",
   "metadata": {},
   "outputs": [],
   "source": [
    "# minor project"
   ]
  },
  {
   "cell_type": "code",
   "execution_count": null,
   "id": "82431044-4b14-45cb-83d1-b46e3cd72a2c",
   "metadata": {},
   "outputs": [],
   "source": [
    "import sqlite3\n",
    "\n",
    "# Database connection\n",
    "conn = sqlite3.connect(\"atm.db\")\n",
    "cur = conn.cursor()\n",
    "\n",
    "# Table create (run once)\n",
    "cur.execute('''\n",
    "CREATE TABLE IF NOT EXISTS accounts (\n",
    "    acc_no INTEGER PRIMARY KEY AUTOINCREMENT,\n",
    "    name TEXT,\n",
    "    pin TEXT,\n",
    "    balance REAL\n",
    ")\n",
    "''')\n",
    "conn.commit()\n"
   ]
  },
  {
   "cell_type": "code",
   "execution_count": null,
   "id": "d33745b8-23f0-4b08-a41c-36824df236af",
   "metadata": {},
   "outputs": [],
   "source": [
    "def create_account(name, pin, balance):\n",
    "    cur.execute(\"INSERT INTO accounts (name, pin, balance) VALUES (?, ?, ?)\", (name, pin, balance))\n",
    "    conn.commit()\n",
    "    print(\" Account created successfully!\")\n",
    "# Example\n",
    "# create_account(\"Divyank\", \"1234\", 5000)"
   ]
  },
  {
   "cell_type": "code",
   "execution_count": null,
   "id": "ffd59bd9-e985-413e-84ef-5e246f7c536c",
   "metadata": {},
   "outputs": [],
   "source": [
    "def login(acc_no, pin):\n",
    "    cur.execute(\"SELECT * FROM accounts WHERE acc_no=? AND pin=?\", (acc_no, pin))\n",
    "    user = cur.fetchone()\n",
    "    if user:\n",
    "        print(f\" Welcome {user[1]}!\")\n",
    "        return user\n",
    "    else:\n",
    "        print(\" Invalid account number or PIN.\")\n",
    "        return None\n"
   ]
  },
  {
   "cell_type": "code",
   "execution_count": null,
   "id": "2ce3a4d9-e5b5-460f-bf54-906bc70bb19a",
   "metadata": {},
   "outputs": [],
   "source": [
    "def check_balance(acc_no):\n",
    "    cur.execute(\"SELECT balance FROM accounts WHERE acc_no=?\", (acc_no,))\n",
    "    balance = cur.fetchone()[0]\n",
    "    print(f\"Current Balance: {balance}\")"
   ]
  },
  {
   "cell_type": "code",
   "execution_count": null,
   "id": "bd6d119f-e83f-4bfb-93bb-5f24ff6fc936",
   "metadata": {},
   "outputs": [],
   "source": [
    "def deposit(acc_no, amount):\n",
    "    cur.execute(\"UPDATE accounts SET balance = balance + ? WHERE acc_no=?\", (amount, acc_no))\n",
    "    conn.commit()\n",
    "    print(f\" {amount} deposited successfully.\")\n"
   ]
  },
  {
   "cell_type": "code",
   "execution_count": null,
   "id": "4b1598ce-385f-4a6a-a88a-ad33d37beef8",
   "metadata": {},
   "outputs": [],
   "source": [
    "def withdraw(acc_no, amount):\n",
    "    cur.execute(\"SELECT balance FROM accounts WHERE acc_no=?\", (acc_no,))\n",
    "    current_balance = cur.fetchone()[0]\n",
    "\n",
    "    if amount > current_balance:\n",
    "        print(\" Insufficient balance!\")\n",
    "    else:\n",
    "        cur.execute(\"UPDATE accounts SET balance = balance - ? WHERE acc_no=?\", (amount, acc_no))\n",
    "        conn.commit()\n",
    "        print(f\" {amount} withdrawn successfully.\")"
   ]
  },
  {
   "cell_type": "code",
   "execution_count": null,
   "id": "147e6469-8666-4362-99af-525d482193a0",
   "metadata": {},
   "outputs": [],
   "source": [
    "def atm_menu():\n",
    "    print(\"===== Welcome to Python ATM =====\")\n",
    "    acc_no = int(input(\"Enter Account Number: \"))\n",
    "    pin = input(\"Enter PIN: \")\n",
    "\n",
    "    user = login(acc_no, pin)\n",
    "    if not user:\n",
    "        return\n",
    "\n",
    "    while True:\n",
    "        print(\"\\n--- Menu ---\")\n",
    "        print(\"1. Check Balance\")\n",
    "        print(\"2. Deposit\")\n",
    "        print(\"3. Withdraw\")\n",
    "        print(\"4. Exit\")\n",
    "        choice = input(\"Enter your choice: \")\n",
    "\n",
    "        if choice == '1':\n",
    "            check_balance(acc_no)\n",
    "        elif choice == '2':\n",
    "            amt = float(input(\"Enter amount to deposit: \"))\n",
    "            deposit(acc_no, amt)\n",
    "        elif choice == '3':\n",
    "            amt = float(input(\"Enter amount to withdraw: \"))\n",
    "            withdraw(acc_no, amt)\n",
    "        elif choice == '4':\n",
    "            print(\" Thank you for using the ATM. Bye!\")\n",
    "            break\n",
    "        else:\n",
    "            print(\"Invalid choice.\")\n"
   ]
  },
  {
   "cell_type": "code",
   "execution_count": null,
   "id": "7d4b3d63-f9fd-4e7e-b200-24eb04780b4d",
   "metadata": {},
   "outputs": [],
   "source": [
    "atm_menu()\n",
    "conn.close()\n"
   ]
  },
  {
   "cell_type": "code",
   "execution_count": 1,
   "id": "260b4acd-2c26-4374-98a6-8be88ba66b82",
   "metadata": {},
   "outputs": [],
   "source": [
    "# numpy"
   ]
  },
  {
   "cell_type": "code",
   "execution_count": 2,
   "id": "aadffb0b-a6c8-4d59-aef5-676a1e635020",
   "metadata": {},
   "outputs": [],
   "source": [
    "import numpy as np"
   ]
  },
  {
   "cell_type": "code",
   "execution_count": 4,
   "id": "4f0cb959-2327-4a19-b5cb-aac3238a6ba1",
   "metadata": {},
   "outputs": [
    {
     "name": "stdout",
     "output_type": "stream",
     "text": [
      "[1 2 3]\n",
      "[[1 2]\n",
      " [3 4]]\n"
     ]
    }
   ],
   "source": [
    "a = np.array([1, 2, 3])\n",
    "b = np.array([[1, 2], [3, 4]])\n",
    "print(a)\n",
    "print(b)"
   ]
  },
  {
   "cell_type": "code",
   "execution_count": 6,
   "id": "baecfeac-ce39-4277-a302-4649a15301ee",
   "metadata": {},
   "outputs": [
    {
     "name": "stdout",
     "output_type": "stream",
     "text": [
      "(2, 3)\n",
      "6\n",
      "2\n",
      "int64\n"
     ]
    }
   ],
   "source": [
    "arr = np.array([[1, 2, 3], [4, 5, 6]])\n",
    "print(arr.shape)\n",
    "print(arr.size)\n",
    "print(arr.ndim)\n",
    "print(arr.dtype)"
   ]
  },
  {
   "cell_type": "code",
   "execution_count": 7,
   "id": "28c83511-4eff-4bd5-823d-5cc7ee22b295",
   "metadata": {},
   "outputs": [
    {
     "name": "stdout",
     "output_type": "stream",
     "text": [
      "[[1 2 3]\n",
      " [4 5 6]]\n"
     ]
    }
   ],
   "source": [
    "a = np.array([1, 2, 3, 4, 5, 6])\n",
    "print(a.reshape(2, 3))"
   ]
  },
  {
   "cell_type": "code",
   "execution_count": 8,
   "id": "31841ebe-0371-418a-a82f-f8446eba96c4",
   "metadata": {},
   "outputs": [
    {
     "name": "stdout",
     "output_type": "stream",
     "text": [
      "20\n",
      "[20 30 40]\n"
     ]
    }
   ],
   "source": [
    "arr = np.array([10, 20, 30, 40, 50])\n",
    "print(arr[1])\n",
    "print(arr[1:4])"
   ]
  },
  {
   "cell_type": "code",
   "execution_count": 10,
   "id": "564d4354-fa80-4ab8-880b-c7232998c0e4",
   "metadata": {},
   "outputs": [
    {
     "name": "stdout",
     "output_type": "stream",
     "text": [
      "[[0. 0. 0.]\n",
      " [0. 0. 0.]]\n",
      "[[1. 1. 1.]\n",
      " [1. 1. 1.]\n",
      " [1. 1. 1.]]\n",
      "[[1. 0. 0.]\n",
      " [0. 1. 0.]\n",
      " [0. 0. 1.]]\n",
      "[[7 7]\n",
      " [7 7]]\n",
      "[1 5 9]\n",
      "[1.         2.33333333 3.66666667 5.        ]\n"
     ]
    }
   ],
   "source": [
    "print(np.zeros((2, 3)))\n",
    "print(np.ones((3, 3)))\n",
    "print(np.eye(3, 3))\n",
    "print(np.full((2, 2), 7))\n",
    "print(np.arange(1, 10, 4))\n",
    "print(np.linspace(1, 5, 4))"
   ]
  },
  {
   "cell_type": "code",
   "execution_count": 11,
   "id": "410ad5c2-b854-455f-8724-34c84749a7a2",
   "metadata": {},
   "outputs": [
    {
     "name": "stdout",
     "output_type": "stream",
     "text": [
      "[5 7 9]\n",
      "[ 4 10 18]\n",
      "[1 4 9]\n",
      "[1.         1.41421356 1.73205081]\n",
      "2.0\n"
     ]
    }
   ],
   "source": [
    "a = np.array([1, 2, 3])\n",
    "b = np.array([4, 5, 6])\n",
    "print(a + b)\n",
    "print(a * b)\n",
    "print(a ** 2)\n",
    "print(np.sqrt(a))\n",
    "print(np.mean(a))"
   ]
  },
  {
   "cell_type": "code",
   "execution_count": 12,
   "id": "6073a1fa-bf59-484c-94ba-deadc7b03d50",
   "metadata": {},
   "outputs": [
    {
     "name": "stdout",
     "output_type": "stream",
     "text": [
      "21\n",
      "1\n",
      "6\n",
      "[5 7 9]\n",
      "[ 6 15]\n"
     ]
    }
   ],
   "source": [
    "arr = np.array([[1, 2, 3], [4, 5, 6]])\n",
    "print(np.sum(arr))\n",
    "print(np.min(arr))\n",
    "print(np.max(arr))\n",
    "print(np.sum(arr, axis = 0))\n",
    "print(np.sum(arr, axis = 1))"
   ]
  },
  {
   "cell_type": "code",
   "execution_count": 13,
   "id": "80b0ad26-4320-4c4b-839d-20715c8a25e2",
   "metadata": {},
   "outputs": [
    {
     "name": "stdout",
     "output_type": "stream",
     "text": [
      "[1 2 3 4]\n"
     ]
    }
   ],
   "source": [
    "arr = np.array([[1, 2], [3, 4]])\n",
    "print(arr.flatten())"
   ]
  },
  {
   "cell_type": "code",
   "execution_count": 14,
   "id": "083eedd5-0919-426e-a6c7-d92a3ce82b71",
   "metadata": {},
   "outputs": [
    {
     "name": "stdout",
     "output_type": "stream",
     "text": [
      "[[1 4]\n",
      " [2 5]\n",
      " [3 6]]\n"
     ]
    }
   ],
   "source": [
    "arr = np.array([[1, 2, 3], [4, 5, 6]])\n",
    "print(arr.T)"
   ]
  },
  {
   "cell_type": "code",
   "execution_count": 16,
   "id": "2051d1f1-58cf-46b6-9f27-54ad2ab97667",
   "metadata": {},
   "outputs": [
    {
     "name": "stdout",
     "output_type": "stream",
     "text": [
      "[[ 4  4]\n",
      " [10  8]]\n"
     ]
    }
   ],
   "source": [
    "a = np.array([[1, 2], [3, 4]])\n",
    "b = np.array([[2, 0], [1, 2]])\n",
    "print(np.dot(a, b))"
   ]
  },
  {
   "cell_type": "code",
   "execution_count": 17,
   "id": "29d115f7-2245-4ecd-a156-afd5c793f037",
   "metadata": {},
   "outputs": [],
   "source": [
    "# NumPy Coding Questions"
   ]
  },
  {
   "cell_type": "code",
   "execution_count": 19,
   "id": "9b842fa2-0c75-4560-8158-48e5978b242a",
   "metadata": {},
   "outputs": [
    {
     "name": "stdout",
     "output_type": "stream",
     "text": [
      "Array from 0 to 10:\n",
      " [ 0  1  2  3  4  5  6  7  8  9 10]\n"
     ]
    }
   ],
   "source": [
    "# Create a NumPy array of integers from 0 to 10.\n",
    "arr1 = np.arange(0, 11)\n",
    "print(\"Array from 0 to 10:\\n\", arr1)"
   ]
  },
  {
   "cell_type": "code",
   "execution_count": 20,
   "id": "818c6dce-d59d-4905-8ca4-30190a51733c",
   "metadata": {},
   "outputs": [
    {
     "name": "stdout",
     "output_type": "stream",
     "text": [
      "\n",
      "Array of zeros with 5th element as 1:\n",
      " [0 0 0 0 1 0 0 0 0 0]\n"
     ]
    }
   ],
   "source": [
    "# Create an array of 10 zeros and change the 5th value to 1.\n",
    "arr2 = np.zeros(10, dtype=int)\n",
    "arr2[4] = 1     \n",
    "print(\"\\nArray of zeros with 5th element as 1:\\n\", arr2)"
   ]
  },
  {
   "cell_type": "code",
   "execution_count": 21,
   "id": "045b616b-46c2-4beb-8ab5-9081106da777",
   "metadata": {},
   "outputs": [
    {
     "name": "stdout",
     "output_type": "stream",
     "text": [
      "\n",
      "Array of 10 ones:\n",
      " [1 1 1 1 1 1 1 1 1 1]\n"
     ]
    }
   ],
   "source": [
    "# Generate an array of 10 ones.\n",
    "arr3 = np.ones(10, dtype=int)\n",
    "print(\"\\nArray of 10 ones:\\n\", arr3)"
   ]
  },
  {
   "cell_type": "code",
   "execution_count": 22,
   "id": "bde29588-9cac-46b2-a551-9a9d45a51ffb",
   "metadata": {},
   "outputs": [
    {
     "name": "stdout",
     "output_type": "stream",
     "text": [
      "\n",
      "20 equally spaced numbers between 0 and 1:\n",
      " [0.         0.05263158 0.10526316 0.15789474 0.21052632 0.26315789\n",
      " 0.31578947 0.36842105 0.42105263 0.47368421 0.52631579 0.57894737\n",
      " 0.63157895 0.68421053 0.73684211 0.78947368 0.84210526 0.89473684\n",
      " 0.94736842 1.        ]\n"
     ]
    }
   ],
   "source": [
    "# Create a 1D array of 20 equally spaced numbers between 0 and 1.\n",
    "arr4 = np.linspace(0, 1, 20)\n",
    "print(\"\\n20 equally spaced numbers between 0 and 1:\\n\", arr4)"
   ]
  },
  {
   "cell_type": "code",
   "execution_count": 23,
   "id": "259e8a48-5677-4e41-a9b3-3972c1875b5d",
   "metadata": {},
   "outputs": [
    {
     "name": "stdout",
     "output_type": "stream",
     "text": [
      "\n",
      "3x3 Identity matrix:\n",
      " [[1. 0. 0.]\n",
      " [0. 1. 0.]\n",
      " [0. 0. 1.]]\n"
     ]
    }
   ],
   "source": [
    "# Create a 3x3 identity matrix.\n",
    "arr5 = np.eye(3)\n",
    "print(\"\\n3x3 Identity matrix:\\n\", arr5)"
   ]
  },
  {
   "cell_type": "code",
   "execution_count": 24,
   "id": "ff2a7647-fe76-4bc4-ac67-55ee0fcb16e9",
   "metadata": {},
   "outputs": [
    {
     "name": "stdout",
     "output_type": "stream",
     "text": [
      "\n",
      "4x4 matrix from 0 to 15:\n",
      " [[ 0  1  2  3]\n",
      " [ 4  5  6  7]\n",
      " [ 8  9 10 11]\n",
      " [12 13 14 15]]\n"
     ]
    }
   ],
   "source": [
    "# Create a 4x4 matrix with values from 0 to 15.\n",
    "arr6 = np.arange(16).reshape(4,4)\n",
    "print(\"\\n4x4 matrix from 0 to 15:\\n\", arr6)"
   ]
  },
  {
   "cell_type": "code",
   "execution_count": 25,
   "id": "204dfd97-6331-4372-9a4a-54671fcf86e2",
   "metadata": {},
   "outputs": [
    {
     "name": "stdout",
     "output_type": "stream",
     "text": [
      "\n",
      "5x5 random matrix:\n",
      " [[0.19528723 0.39753841 0.34696483 0.5134472  0.26943648]\n",
      " [0.80728625 0.09880178 0.25261875 0.06919043 0.34478798]\n",
      " [0.15585346 0.46768248 0.98959785 0.23791301 0.03570505]\n",
      " [0.71207398 0.81299674 0.21066318 0.91164883 0.37282805]\n",
      " [0.39508533 0.17496966 0.66828298 0.8659603  0.86443415]]\n"
     ]
    }
   ],
   "source": [
    "# Generate a 5x5 matrix with random values.\n",
    "arr7 = np.random.rand(5,5)\n",
    "print(\"\\n5x5 random matrix:\\n\", arr7)"
   ]
  },
  {
   "cell_type": "code",
   "execution_count": 26,
   "id": "8a246e61-a32b-4117-9df5-43f82f17c1f7",
   "metadata": {},
   "outputs": [
    {
     "name": "stdout",
     "output_type": "stream",
     "text": [
      "\n",
      "Reversed array:\n",
      " [5 4 3 2 1]\n"
     ]
    }
   ],
   "source": [
    "# Reverse the elements of an array.\n",
    "arr8 = np.array([1,2,3,4,5])\n",
    "reversed_arr8 = arr8[::-1]\n",
    "print(\"\\nReversed array:\\n\", reversed_arr8)"
   ]
  },
  {
   "cell_type": "code",
   "execution_count": 27,
   "id": "2ca8542f-2129-41fb-9443-7c0aab5e2de6",
   "metadata": {},
   "outputs": [
    {
     "name": "stdout",
     "output_type": "stream",
     "text": [
      "\n",
      "Flattened array:\n",
      " [1 2 3 4 5 6]\n"
     ]
    }
   ],
   "source": [
    "# Flatten a 2D array to 1D.\n",
    "arr9 = np.array([[1,2],[3,4],[5,6]])\n",
    "flattened_arr9 = arr9.flatten()\n",
    "print(\"\\nFlattened array:\\n\", flattened_arr9)"
   ]
  },
  {
   "cell_type": "code",
   "execution_count": null,
   "id": "09acbce5-6acf-440b-9ceb-641a5b54ad63",
   "metadata": {},
   "outputs": [],
   "source": [
    "# Extract even numbers from an array.\n",
    "arr10 = np.array([1,2,3,4,5,6,7,8,9,10])\n",
    "even_numbers = arr10[arr10 % 2 == 0]\n",
    "print(\"\\nEven numbers from array:\\n\", even_numbers)"
   ]
  }
 ],
 "metadata": {
  "kernelspec": {
   "display_name": "Python 3 (ipykernel)",
   "language": "python",
   "name": "python3"
  },
  "language_info": {
   "codemirror_mode": {
    "name": "ipython",
    "version": 3
   },
   "file_extension": ".py",
   "mimetype": "text/x-python",
   "name": "python",
   "nbconvert_exporter": "python",
   "pygments_lexer": "ipython3",
   "version": "3.13.5"
  }
 },
 "nbformat": 4,
 "nbformat_minor": 5
}
