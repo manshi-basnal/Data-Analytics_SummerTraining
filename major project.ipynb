{
 "cells": [
  {
   "cell_type": "markdown",
   "id": "bcada2de-2ea8-49af-a674-b3d7a77b8892",
   "metadata": {},
   "source": [
    "# ************ MAJOR PROJECT *************"
   ]
  },
  {
   "cell_type": "markdown",
   "id": "c5d9458f-d1a6-410c-9dc0-946b74c2e8cb",
   "metadata": {},
   "source": [
    "# **** Bill Management System ****"
   ]
  },
  {
   "cell_type": "code",
   "execution_count": 34,
   "id": "ce74b855-94a7-4773-b06f-bb162ea33660",
   "metadata": {},
   "outputs": [],
   "source": [
    "import sqlite3\n",
    "conn = sqlite3.connect(\"billSystem.db\")\n",
    "cur = conn.cursor()\n",
    "\n",
    "cur.execute('''CREATE TABLE IF NOT EXISTS Customers (\n",
    "    customer_id INTEGER PRIMARY KEY AUTOINCREMENT,\n",
    "    name TEXT,\n",
    "    phone TEXT  )''')\n",
    "\n",
    "cur.execute('''CREATE TABLE IF NOT EXISTS Items (\n",
    "    item_id INTEGER PRIMARY KEY AUTOINCREMENT,\n",
    "    name TEXT,\n",
    "    price REAL )''')\n",
    "\n",
    "cur.execute('''CREATE TABLE IF NOT EXISTS Bills (\n",
    "    bill_id INTEGER PRIMARY KEY AUTOINCREMENT,\n",
    "    customer_id INTEGER,\n",
    "    total REAL,\n",
    "    date_time TEXT )''')\n",
    "\n",
    "cur.execute('''CREATE TABLE IF NOT EXISTS Bill_items (\n",
    "    bill_item_id INTEGER PRIMARY KEY AUTOINCREMENT,\n",
    "    bill_id INTEGER,\n",
    "    item_id INTEGER,\n",
    "    quantity INTEGER,\n",
    "    price REAL )''')\n",
    "conn.commit()"
   ]
  },
  {
   "cell_type": "code",
   "execution_count": 35,
   "id": "4d527505-90e1-48d8-b366-b85ada54eacd",
   "metadata": {},
   "outputs": [],
   "source": [
    "def add_customer():\n",
    "    name = input(\"Enter customer name: \")\n",
    "    phone = input(\"Enter customer phone: \")\n",
    "    cur.execute(\"INSERT INTO Customers (name, phone) VALUES (?, ?)\", (name, phone))\n",
    "    conn.commit()\n",
    "    print(\"Customer added successfully!\\n\")"
   ]
  },
  {
   "cell_type": "code",
   "execution_count": 36,
   "id": "a2941215-34fb-4064-9567-d6279b7ea3c5",
   "metadata": {},
   "outputs": [],
   "source": [
    "def add_item():\n",
    "    name = input(\"Enter item name: \")\n",
    "    price = float(input(\"Enter item price: \"))\n",
    "    cur.execute(\"INSERT INTO Items (name, price) VALUES (?, ?)\", (name, price))\n",
    "    conn.commit()\n",
    "    print(\"Item added successfully!\\n\")"
   ]
  },
  {
   "cell_type": "code",
   "execution_count": 37,
   "id": "3a1a80c5-a1b4-4b0d-932c-f2ae1be949ae",
   "metadata": {},
   "outputs": [],
   "source": [
    "def generate_bill():\n",
    "    customer_id = int(input(\"Enter customer ID: \"))\n",
    "    items_list = []\n",
    "    while True:\n",
    "        item_id = int(input(\"Enter item ID (0 to stop): \"))\n",
    "        if item_id == 0:\n",
    "            break\n",
    "        qty = int(input(\"Enter quantity: \"))\n",
    "        items_list.append((item_id, qty))\n",
    "\n",
    "    total = 0\n",
    "    for item_id, qty in items_list:\n",
    "        cur.execute(\"SELECT price FROM Items WHERE item_id=?\", (item_id,))\n",
    "        result = cur.fetchone()\n",
    "        if result:\n",
    "            price = result[0]\n",
    "            total += price * qty\n",
    "        else:\n",
    "            print(f\"Item ID {item_id} not found!\")\n",
    "    cur.execute(\"INSERT INTO Bills (customer_id, total) VALUES (?, ?)\",\n",
    "                (customer_id, total\n",
    "                ))\n",
    "    bill_id = cur.lastrowid\n",
    "\n",
    "    for item_id, qty in items_list:\n",
    "        cur.execute(\"SELECT price FROM Items WHERE item_id=?\", (item_id,))\n",
    "        price = cur.fetchone()[0]\n",
    "        cur.execute(\"INSERT INTO Bill_items (bill_id, item_id, quantity, price) VALUES (?, ?, ?, ?)\",\n",
    "                    (bill_id, item_id, qty, price))\n",
    "    conn.commit()\n",
    "    print(f\"Bill generated! Bill ID: {bill_id}, Total: {total}\\n\")\n"
   ]
  },
  {
   "cell_type": "code",
   "execution_count": 38,
   "id": "aad342c1-42f0-45b9-bbd0-ed97d747efe1",
   "metadata": {},
   "outputs": [],
   "source": [
    "def view_bill():\n",
    "    bill_id = int(input(\"Enter bill ID: \"))\n",
    "    cur.execute(\"SELECT * FROM Bills WHERE bill_id=?\", (bill_id,))\n",
    "    bill = cur.fetchone()\n",
    "    if bill:\n",
    "        print(f\"\\nBill ID: {bill[0]}, Customer ID: {bill[1]}, Total: {bill[2]}\")\n",
    "        print(\"Items in this bill:\")\n",
    "        cur.execute(\"SELECT item_id, quantity, price FROM Bill_items WHERE bill_id=?\", (bill_id,))\n",
    "        rows = cur.fetchall()\n",
    "        for item_id, qty, price in rows:\n",
    "            cur.execute(\"SELECT name FROM Items WHERE item_id=?\", (item_id,))\n",
    "            item_name = cur.fetchone()[0]\n",
    "            print(f\"- {item_name} (ID {item_id}) | Qty: {qty} | Unit Price: {price}\")\n",
    "        print()\n",
    "    else:\n",
    "        print(\"Bill not found.\\n\")"
   ]
  },
  {
   "cell_type": "code",
   "execution_count": 39,
   "id": "9925e528-0af3-45d6-a686-20555cf5b62c",
   "metadata": {},
   "outputs": [],
   "source": [
    "def Bill_main():\n",
    "    while True:\n",
    "        print(\"===== Bill Management System (SQLite3) =====\")\n",
    "        print(\"1. Add Customer\")\n",
    "        print(\"2. Add Item\")\n",
    "        print(\"3. Generate Bill\")\n",
    "        print(\"4. View Bill\")\n",
    "        print(\"5. Exit\")\n",
    "        choice = input(\"Enter choice: \")\n",
    "\n",
    "        if choice == '1':\n",
    "            add_customer()\n",
    "        elif choice == '2':\n",
    "            add_item()\n",
    "        elif choice == '3':\n",
    "            generate_bill()\n",
    "        elif choice == '4':\n",
    "            view_bill()\n",
    "        elif choice == '5':\n",
    "            print(\"Exiting... \")\n",
    "            break\n",
    "        else:\n",
    "            print(\"Invalid choice! Try again.\\n\")\n"
   ]
  },
  {
   "cell_type": "code",
   "execution_count": 40,
   "id": "f26834ce-bba6-484e-af34-1028401ec69b",
   "metadata": {},
   "outputs": [
    {
     "name": "stdout",
     "output_type": "stream",
     "text": [
      "===== Bill Management System (SQLite3) =====\n",
      "1. Add Customer\n",
      "2. Add Item\n",
      "3. Generate Bill\n",
      "4. View Bill\n",
      "5. Exit\n"
     ]
    },
    {
     "name": "stdin",
     "output_type": "stream",
     "text": [
      "Enter choice:  1\n",
      "Enter customer name:  manshi\n",
      "Enter customer phone:  1234567898\n"
     ]
    },
    {
     "name": "stdout",
     "output_type": "stream",
     "text": [
      "Customer added successfully!\n",
      "\n",
      "===== Bill Management System (SQLite3) =====\n",
      "1. Add Customer\n",
      "2. Add Item\n",
      "3. Generate Bill\n",
      "4. View Bill\n",
      "5. Exit\n"
     ]
    },
    {
     "name": "stdin",
     "output_type": "stream",
     "text": [
      "Enter choice:  2\n",
      "Enter item name:  milk\n",
      "Enter item price:  40\n"
     ]
    },
    {
     "name": "stdout",
     "output_type": "stream",
     "text": [
      "Item added successfully!\n",
      "\n",
      "===== Bill Management System (SQLite3) =====\n",
      "1. Add Customer\n",
      "2. Add Item\n",
      "3. Generate Bill\n",
      "4. View Bill\n",
      "5. Exit\n"
     ]
    },
    {
     "name": "stdin",
     "output_type": "stream",
     "text": [
      "Enter choice:  2\n",
      "Enter item name:  water\n",
      "Enter item price:  20\n"
     ]
    },
    {
     "name": "stdout",
     "output_type": "stream",
     "text": [
      "Item added successfully!\n",
      "\n",
      "===== Bill Management System (SQLite3) =====\n",
      "1. Add Customer\n",
      "2. Add Item\n",
      "3. Generate Bill\n",
      "4. View Bill\n",
      "5. Exit\n"
     ]
    },
    {
     "name": "stdin",
     "output_type": "stream",
     "text": [
      "Enter choice:  3\n",
      "Enter customer ID:  1\n",
      "Enter item ID (0 to stop):  1\n",
      "Enter quantity:  5\n",
      "Enter item ID (0 to stop):  2\n",
      "Enter quantity:  5\n",
      "Enter item ID (0 to stop):  0\n"
     ]
    },
    {
     "name": "stdout",
     "output_type": "stream",
     "text": [
      "Bill generated! Bill ID: 3, Total: 300.0\n",
      "\n",
      "===== Bill Management System (SQLite3) =====\n",
      "1. Add Customer\n",
      "2. Add Item\n",
      "3. Generate Bill\n",
      "4. View Bill\n",
      "5. Exit\n"
     ]
    },
    {
     "name": "stdin",
     "output_type": "stream",
     "text": [
      "Enter choice:  4\n",
      "Enter bill ID:  3\n"
     ]
    },
    {
     "name": "stdout",
     "output_type": "stream",
     "text": [
      "\n",
      "Bill ID: 3, Customer ID: 1, Total: 300.0\n",
      "Items in this bill:\n",
      "- milk (ID 1) | Qty: 5 | Unit Price: 40.0\n",
      "- water (ID 2) | Qty: 5 | Unit Price: 20.0\n",
      "\n",
      "===== Bill Management System (SQLite3) =====\n",
      "1. Add Customer\n",
      "2. Add Item\n",
      "3. Generate Bill\n",
      "4. View Bill\n",
      "5. Exit\n"
     ]
    },
    {
     "name": "stdin",
     "output_type": "stream",
     "text": [
      "Enter choice:  5\n"
     ]
    },
    {
     "name": "stdout",
     "output_type": "stream",
     "text": [
      "Exiting... \n"
     ]
    }
   ],
   "source": [
    "Bill_main()\n",
    "conn.close()"
   ]
  },
  {
   "cell_type": "code",
   "execution_count": null,
   "id": "31a6ee90-3eef-484c-8315-dff949d2b57b",
   "metadata": {},
   "outputs": [],
   "source": []
  }
 ],
 "metadata": {
  "kernelspec": {
   "display_name": "Python 3 (ipykernel)",
   "language": "python",
   "name": "python3"
  },
  "language_info": {
   "codemirror_mode": {
    "name": "ipython",
    "version": 3
   },
   "file_extension": ".py",
   "mimetype": "text/x-python",
   "name": "python",
   "nbconvert_exporter": "python",
   "pygments_lexer": "ipython3",
   "version": "3.13.5"
  }
 },
 "nbformat": 4,
 "nbformat_minor": 5
}
